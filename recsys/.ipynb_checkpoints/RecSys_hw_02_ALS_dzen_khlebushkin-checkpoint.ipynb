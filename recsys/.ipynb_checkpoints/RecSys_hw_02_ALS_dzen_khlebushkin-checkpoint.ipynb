{
 "cells": [
  {
   "cell_type": "markdown",
   "id": "aaf10263",
   "metadata": {
    "id": "aaf10263"
   },
   "source": [
    "# ALS applications"
   ]
  },
  {
   "cell_type": "markdown",
   "id": "b7468264",
   "metadata": {
    "id": "b7468264"
   },
   "source": [
    "## Dzen dataset\n",
    "\n",
    "Data comes from [dzen.ru](https://dzen.ru/) site and consists of likes which users put to text articles\n",
    "\n",
    "### Columns\n",
    "1. item_id - unique id of an item (article)\n",
    "2. user_id - unique id of a user\n",
    "3. source_id - unique id of an author. If two items have same source_id, then they come from one author\n",
    "4. Name of item is name of the article\n",
    "5. Raw dataset represents user_id and list of item_ids which user liked"
   ]
  },
  {
   "cell_type": "code",
   "execution_count": 2,
   "id": "564cb47b-ba99-40d2-a0c4-9987cefe1253",
   "metadata": {
    "colab": {
     "base_uri": "https://localhost:8080/"
    },
    "id": "564cb47b-ba99-40d2-a0c4-9987cefe1253",
    "outputId": "2a3a6a42-f08b-4cd6-8af9-ae6569aef34d"
   },
   "outputs": [
    {
     "name": "stdout",
     "output_type": "stream",
     "text": [
      "  % Total    % Received % Xferd  Average Speed   Time    Time     Time  Current\n",
      "                                 Dload  Upload   Total   Spent    Left  Speed\n",
      "100   109    0   109    0     0    213      0 --:--:-- --:--:-- --:--:--   213\n",
      "100   261    0   261    0     0    271      0 --:--:-- --:--:-- --:--:--   271\n",
      "100   496    0   496    0     0    331      0 --:--:--  0:00:01 --:--:--     0\n",
      "100 24.0M  100 24.0M    0     0  9819k      0  0:00:02  0:00:02 --:--:--  155M\n",
      "Archive:  unspecified\n",
      "  inflating: zen_item_to_name.csv    \n",
      "  inflating: zen_item_to_source.csv  \n",
      "  inflating: zen_ratings.csv         \n"
     ]
    }
   ],
   "source": [
    "!curl -O -J -L 'https://www.dropbox.com/s/ia4bvhuqg8kesee/zen_dataset.zip?dl=1'\n",
    "!unzip unspecified"
   ]
  },
  {
   "cell_type": "code",
   "execution_count": 1,
   "id": "51630f5f",
   "metadata": {
    "ExecuteTime": {
     "end_time": "2023-06-07T21:31:43.942096Z",
     "start_time": "2023-06-07T21:31:43.139524Z"
    },
    "id": "51630f5f"
   },
   "outputs": [],
   "source": [
    "import numpy as np\n",
    "import pandas as pd\n",
    "import scipy.sparse as sp\n",
    "from tqdm.notebook import tqdm\n",
    "import ast"
   ]
  },
  {
   "cell_type": "code",
   "execution_count": 66,
   "id": "90965805",
   "metadata": {
    "ExecuteTime": {
     "end_time": "2023-06-07T21:31:45.414950Z",
     "start_time": "2023-06-07T21:31:44.581759Z"
    },
    "colab": {
     "base_uri": "https://localhost:8080/"
    },
    "id": "90965805",
    "outputId": "e5e9a7b1-1dee-4604-bce6-9173f00471aa"
   },
   "outputs": [],
   "source": [
    "item_names = pd.read_csv(\"zen_item_to_name.csv\")\n",
    "item_sources = pd.read_csv(\"zen_item_to_source.csv\")\n",
    "dataset = pd.read_csv(\"zen_ratings.csv\", converters={'item_ids': ast.literal_eval})"
   ]
  },
  {
   "cell_type": "code",
   "execution_count": 598,
   "id": "772f1375",
   "metadata": {
    "ExecuteTime": {
     "end_time": "2023-06-07T21:31:46.293533Z",
     "start_time": "2023-06-07T21:31:46.269174Z"
    },
    "colab": {
     "base_uri": "https://localhost:8080/",
     "height": 419
    },
    "id": "772f1375",
    "outputId": "5553ebb9-6803-4ed4-a34f-d0364c02aa93"
   },
   "outputs": [
    {
     "data": {
      "text/html": [
       "<div>\n",
       "<style scoped>\n",
       "    .dataframe tbody tr th:only-of-type {\n",
       "        vertical-align: middle;\n",
       "    }\n",
       "\n",
       "    .dataframe tbody tr th {\n",
       "        vertical-align: top;\n",
       "    }\n",
       "\n",
       "    .dataframe thead th {\n",
       "        text-align: right;\n",
       "    }\n",
       "</style>\n",
       "<table border=\"1\" class=\"dataframe\">\n",
       "  <thead>\n",
       "    <tr style=\"text-align: right;\">\n",
       "      <th></th>\n",
       "      <th>id</th>\n",
       "      <th>name</th>\n",
       "    </tr>\n",
       "  </thead>\n",
       "  <tbody>\n",
       "    <tr>\n",
       "      <th>0</th>\n",
       "      <td>94962</td>\n",
       "      <td>Что обычно ожидало русских казачек в руках у к...</td>\n",
       "    </tr>\n",
       "    <tr>\n",
       "      <th>1</th>\n",
       "      <td>3972</td>\n",
       "      <td>Почему Россия решила строить новую скоростную ...</td>\n",
       "    </tr>\n",
       "    <tr>\n",
       "      <th>2</th>\n",
       "      <td>94644</td>\n",
       "      <td>5 неприличных фактов об Андрее Макаревиче, кот...</td>\n",
       "    </tr>\n",
       "    <tr>\n",
       "      <th>3</th>\n",
       "      <td>82518</td>\n",
       "      <td>Что стало с красавицей Хмельницкой, которую му...</td>\n",
       "    </tr>\n",
       "    <tr>\n",
       "      <th>4</th>\n",
       "      <td>53264</td>\n",
       "      <td>Понять и Простить: Почему угонщики, бежавшие и...</td>\n",
       "    </tr>\n",
       "    <tr>\n",
       "      <th>...</th>\n",
       "      <td>...</td>\n",
       "      <td>...</td>\n",
       "    </tr>\n",
       "    <tr>\n",
       "      <th>104498</th>\n",
       "      <td>36769</td>\n",
       "      <td>Плюс один источник мифа о рыцарях, неспособных...</td>\n",
       "    </tr>\n",
       "    <tr>\n",
       "      <th>104499</th>\n",
       "      <td>9190</td>\n",
       "      <td>Мой сад - малоуходный</td>\n",
       "    </tr>\n",
       "    <tr>\n",
       "      <th>104500</th>\n",
       "      <td>52731</td>\n",
       "      <td>Купил первую в жизни циркулярную пилу. Честный...</td>\n",
       "    </tr>\n",
       "    <tr>\n",
       "      <th>104501</th>\n",
       "      <td>72660</td>\n",
       "      <td>Решили предложить Марине помощь в лечении ч.10</td>\n",
       "    </tr>\n",
       "    <tr>\n",
       "      <th>104502</th>\n",
       "      <td>53987</td>\n",
       "      <td>Мама и сестра меня предали, я с ними не общаюсь</td>\n",
       "    </tr>\n",
       "  </tbody>\n",
       "</table>\n",
       "<p>104503 rows × 2 columns</p>\n",
       "</div>"
      ],
      "text/plain": [
       "           id                                               name\n",
       "0       94962  Что обычно ожидало русских казачек в руках у к...\n",
       "1        3972  Почему Россия решила строить новую скоростную ...\n",
       "2       94644  5 неприличных фактов об Андрее Макаревиче, кот...\n",
       "3       82518  Что стало с красавицей Хмельницкой, которую му...\n",
       "4       53264  Понять и Простить: Почему угонщики, бежавшие и...\n",
       "...       ...                                                ...\n",
       "104498  36769  Плюс один источник мифа о рыцарях, неспособных...\n",
       "104499   9190                              Мой сад - малоуходный\n",
       "104500  52731  Купил первую в жизни циркулярную пилу. Честный...\n",
       "104501  72660     Решили предложить Марине помощь в лечении ч.10\n",
       "104502  53987    Мама и сестра меня предали, я с ними не общаюсь\n",
       "\n",
       "[104503 rows x 2 columns]"
      ]
     },
     "execution_count": 598,
     "metadata": {},
     "output_type": "execute_result"
    }
   ],
   "source": [
    "item_names"
   ]
  },
  {
   "cell_type": "code",
   "execution_count": 599,
   "id": "cb0aa9e5",
   "metadata": {
    "ExecuteTime": {
     "end_time": "2023-06-07T21:31:47.066054Z",
     "start_time": "2023-06-07T21:31:47.045452Z"
    },
    "colab": {
     "base_uri": "https://localhost:8080/",
     "height": 419
    },
    "id": "cb0aa9e5",
    "outputId": "bd0c2684-a32a-4296-eb00-8f8d455f88be"
   },
   "outputs": [
    {
     "data": {
      "text/html": [
       "<div>\n",
       "<style scoped>\n",
       "    .dataframe tbody tr th:only-of-type {\n",
       "        vertical-align: middle;\n",
       "    }\n",
       "\n",
       "    .dataframe tbody tr th {\n",
       "        vertical-align: top;\n",
       "    }\n",
       "\n",
       "    .dataframe thead th {\n",
       "        text-align: right;\n",
       "    }\n",
       "</style>\n",
       "<table border=\"1\" class=\"dataframe\">\n",
       "  <thead>\n",
       "    <tr style=\"text-align: right;\">\n",
       "      <th></th>\n",
       "      <th>id</th>\n",
       "      <th>source</th>\n",
       "    </tr>\n",
       "  </thead>\n",
       "  <tbody>\n",
       "    <tr>\n",
       "      <th>0</th>\n",
       "      <td>94962</td>\n",
       "      <td>2919814402697966089</td>\n",
       "    </tr>\n",
       "    <tr>\n",
       "      <th>1</th>\n",
       "      <td>3972</td>\n",
       "      <td>3263022753228392991</td>\n",
       "    </tr>\n",
       "    <tr>\n",
       "      <th>2</th>\n",
       "      <td>94644</td>\n",
       "      <td>-3857390427602554682</td>\n",
       "    </tr>\n",
       "    <tr>\n",
       "      <th>3</th>\n",
       "      <td>82518</td>\n",
       "      <td>-9036908390349249792</td>\n",
       "    </tr>\n",
       "    <tr>\n",
       "      <th>4</th>\n",
       "      <td>53264</td>\n",
       "      <td>3353856219169766284</td>\n",
       "    </tr>\n",
       "    <tr>\n",
       "      <th>...</th>\n",
       "      <td>...</td>\n",
       "      <td>...</td>\n",
       "    </tr>\n",
       "    <tr>\n",
       "      <th>104498</th>\n",
       "      <td>36769</td>\n",
       "      <td>3818746211375738614</td>\n",
       "    </tr>\n",
       "    <tr>\n",
       "      <th>104499</th>\n",
       "      <td>9190</td>\n",
       "      <td>4975535765688979937</td>\n",
       "    </tr>\n",
       "    <tr>\n",
       "      <th>104500</th>\n",
       "      <td>52731</td>\n",
       "      <td>3720366796439288909</td>\n",
       "    </tr>\n",
       "    <tr>\n",
       "      <th>104501</th>\n",
       "      <td>72660</td>\n",
       "      <td>-7860042973720636310</td>\n",
       "    </tr>\n",
       "    <tr>\n",
       "      <th>104502</th>\n",
       "      <td>53987</td>\n",
       "      <td>-1613465697218833842</td>\n",
       "    </tr>\n",
       "  </tbody>\n",
       "</table>\n",
       "<p>104503 rows × 2 columns</p>\n",
       "</div>"
      ],
      "text/plain": [
       "           id               source\n",
       "0       94962  2919814402697966089\n",
       "1        3972  3263022753228392991\n",
       "2       94644 -3857390427602554682\n",
       "3       82518 -9036908390349249792\n",
       "4       53264  3353856219169766284\n",
       "...       ...                  ...\n",
       "104498  36769  3818746211375738614\n",
       "104499   9190  4975535765688979937\n",
       "104500  52731  3720366796439288909\n",
       "104501  72660 -7860042973720636310\n",
       "104502  53987 -1613465697218833842\n",
       "\n",
       "[104503 rows x 2 columns]"
      ]
     },
     "execution_count": 599,
     "metadata": {},
     "output_type": "execute_result"
    }
   ],
   "source": [
    "item_sources"
   ]
  },
  {
   "cell_type": "code",
   "execution_count": 600,
   "id": "f788e369",
   "metadata": {
    "ExecuteTime": {
     "end_time": "2023-06-07T21:31:47.943529Z",
     "start_time": "2023-06-07T21:31:47.920699Z"
    },
    "colab": {
     "base_uri": "https://localhost:8080/",
     "height": 419
    },
    "id": "f788e369",
    "outputId": "de62a44c-1d67-4222-bacd-3c5e04990133"
   },
   "outputs": [
    {
     "data": {
      "text/html": [
       "<div>\n",
       "<style scoped>\n",
       "    .dataframe tbody tr th:only-of-type {\n",
       "        vertical-align: middle;\n",
       "    }\n",
       "\n",
       "    .dataframe tbody tr th {\n",
       "        vertical-align: top;\n",
       "    }\n",
       "\n",
       "    .dataframe thead th {\n",
       "        text-align: right;\n",
       "    }\n",
       "</style>\n",
       "<table border=\"1\" class=\"dataframe\">\n",
       "  <thead>\n",
       "    <tr style=\"text-align: right;\">\n",
       "      <th></th>\n",
       "      <th>user_id</th>\n",
       "      <th>item_ids</th>\n",
       "    </tr>\n",
       "  </thead>\n",
       "  <tbody>\n",
       "    <tr>\n",
       "      <th>0</th>\n",
       "      <td>993675863667353526</td>\n",
       "      <td>[15267, 61075, 81203, 17066, 25471, 88427, 638...</td>\n",
       "    </tr>\n",
       "    <tr>\n",
       "      <th>1</th>\n",
       "      <td>4250619547882954185</td>\n",
       "      <td>[4555, 94644, 84972, 17774, 94962, 78217, 2485...</td>\n",
       "    </tr>\n",
       "    <tr>\n",
       "      <th>2</th>\n",
       "      <td>3847785305345691076</td>\n",
       "      <td>[1898, 26703, 16525, 86939, 55017, 31069, 4035...</td>\n",
       "    </tr>\n",
       "    <tr>\n",
       "      <th>3</th>\n",
       "      <td>1785181112918558233</td>\n",
       "      <td>[75601, 102458, 28716, 100694, 5757, 47104, 60...</td>\n",
       "    </tr>\n",
       "    <tr>\n",
       "      <th>4</th>\n",
       "      <td>5078748097863903181</td>\n",
       "      <td>[72260, 40825, 2615, 42549, 379, 100818, 56827...</td>\n",
       "    </tr>\n",
       "    <tr>\n",
       "      <th>...</th>\n",
       "      <td>...</td>\n",
       "      <td>...</td>\n",
       "    </tr>\n",
       "    <tr>\n",
       "      <th>75905</th>\n",
       "      <td>4954138831959898373</td>\n",
       "      <td>[11881, 55520, 63054, 48015, 66952, 103830, 21...</td>\n",
       "    </tr>\n",
       "    <tr>\n",
       "      <th>75906</th>\n",
       "      <td>4967793435819938014</td>\n",
       "      <td>[74697, 11830, 63858, 87245, 41956, 62089, 686...</td>\n",
       "    </tr>\n",
       "    <tr>\n",
       "      <th>75907</th>\n",
       "      <td>7137764184903122777</td>\n",
       "      <td>[10353, 1775, 103680, 29704, 9782, 13295, 9975...</td>\n",
       "    </tr>\n",
       "    <tr>\n",
       "      <th>75908</th>\n",
       "      <td>2624987805086334956</td>\n",
       "      <td>[24324, 18854, 73319, 66641, 64078, 97387, 426...</td>\n",
       "    </tr>\n",
       "    <tr>\n",
       "      <th>75909</th>\n",
       "      <td>4022390127079841428</td>\n",
       "      <td>[64748, 64490, 99490, 80080, 8419, 84702, 7582...</td>\n",
       "    </tr>\n",
       "  </tbody>\n",
       "</table>\n",
       "<p>75910 rows × 2 columns</p>\n",
       "</div>"
      ],
      "text/plain": [
       "                   user_id                                           item_ids\n",
       "0       993675863667353526  [15267, 61075, 81203, 17066, 25471, 88427, 638...\n",
       "1      4250619547882954185  [4555, 94644, 84972, 17774, 94962, 78217, 2485...\n",
       "2      3847785305345691076  [1898, 26703, 16525, 86939, 55017, 31069, 4035...\n",
       "3      1785181112918558233  [75601, 102458, 28716, 100694, 5757, 47104, 60...\n",
       "4      5078748097863903181  [72260, 40825, 2615, 42549, 379, 100818, 56827...\n",
       "...                    ...                                                ...\n",
       "75905  4954138831959898373  [11881, 55520, 63054, 48015, 66952, 103830, 21...\n",
       "75906  4967793435819938014  [74697, 11830, 63858, 87245, 41956, 62089, 686...\n",
       "75907  7137764184903122777  [10353, 1775, 103680, 29704, 9782, 13295, 9975...\n",
       "75908  2624987805086334956  [24324, 18854, 73319, 66641, 64078, 97387, 426...\n",
       "75909  4022390127079841428  [64748, 64490, 99490, 80080, 8419, 84702, 7582...\n",
       "\n",
       "[75910 rows x 2 columns]"
      ]
     },
     "execution_count": 600,
     "metadata": {},
     "output_type": "execute_result"
    }
   ],
   "source": [
    "dataset"
   ]
  },
  {
   "cell_type": "code",
   "execution_count": 67,
   "id": "e8820e36",
   "metadata": {
    "ExecuteTime": {
     "end_time": "2023-06-07T21:31:55.339206Z",
     "start_time": "2023-06-07T21:31:51.973369Z"
    },
    "colab": {
     "base_uri": "https://localhost:8080/",
     "height": 49,
     "referenced_widgets": [
      "35b8e39902b94dd7adb297d5acf4366e",
      "884392fa14804b4bbe86c111e393320c",
      "b376b4814dea47d69cddf01ab653353e",
      "c67c6f7256684dbaa97a8b6e06639847",
      "770430fa5be943b7a845aeef8561f9f1",
      "c54aeb2471674220ac02259a369de3eb",
      "371c1207a0064094bb0b336880e41a92",
      "56307294617b4ac4bf5d6e847922294b",
      "224fc7e3404f4636b20f4aca881f4d4d",
      "d33bbffd5d65490f8d64441c25205717",
      "abd59713a8c44e9b8eddaf9e3e2d2d77"
     ]
    },
    "id": "e8820e36",
    "outputId": "85c0b8cf-43fc-4333-8f69-d95185232e1b",
    "scrolled": true
   },
   "outputs": [
    {
     "data": {
      "application/vnd.jupyter.widget-view+json": {
       "model_id": "2182880359474e018f240fddc8ded246",
       "version_major": 2,
       "version_minor": 0
      },
      "text/plain": [
       "  0%|          | 0/75910 [00:00<?, ?it/s]"
      ]
     },
     "metadata": {},
     "output_type": "display_data"
    }
   ],
   "source": [
    "total_interactions_count = dataset.item_ids.map(len).sum()\n",
    "user_coo = np.zeros(total_interactions_count, dtype=np.int64)\n",
    "item_coo = np.zeros(total_interactions_count, dtype=np.int64)\n",
    "pos = 0\n",
    "\n",
    "for user_id, item_ids in enumerate(tqdm(dataset.item_ids)):\n",
    "    user_coo[pos : pos + len(item_ids)] = user_id\n",
    "    item_coo[pos : pos + len(item_ids)] = item_ids\n",
    "    pos += len(item_ids)\n",
    "\n",
    "shape = (max(user_coo) + 1, max(item_coo) + 1)\n",
    "user_item_matrix = sp.coo_matrix(\n",
    "    (np.ones(len(user_coo)), (user_coo, item_coo)), shape=shape\n",
    ")\n",
    "user_item_matrix = user_item_matrix.tocsr()\n",
    "\n",
    "# normalize u2i matrix\n",
    "user_item_matrix[user_item_matrix == 2] = 1\n",
    "\n",
    "sp.save_npz(\"data_train.npz\", user_item_matrix)\n",
    "# Cleanup memory. Later you need just data_train.npz\n",
    "del user_coo\n",
    "del item_coo\n",
    "del dataset"
   ]
  },
  {
   "cell_type": "code",
   "execution_count": 2,
   "id": "b694e04f",
   "metadata": {
    "ExecuteTime": {
     "end_time": "2023-06-07T21:32:04.714869Z",
     "start_time": "2023-06-07T21:32:04.568491Z"
    },
    "execution": {
     "iopub.execute_input": "2024-03-21T10:27:58.137388Z",
     "iopub.status.busy": "2024-03-21T10:27:58.136543Z",
     "iopub.status.idle": "2024-03-21T10:27:58.300332Z",
     "shell.execute_reply": "2024-03-21T10:27:58.299898Z",
     "shell.execute_reply.started": "2024-03-21T10:27:58.137337Z"
    },
    "id": "b694e04f"
   },
   "outputs": [],
   "source": [
    "# you could start here if you already done precomputing\n",
    "user_item_matrix = sp.load_npz(\"data_train.npz\")"
   ]
  },
  {
   "cell_type": "code",
   "execution_count": 3,
   "id": "b7d5e4d1-cfcd-4abd-8d7e-b920bd3295b1",
   "metadata": {
    "execution": {
     "iopub.execute_input": "2024-03-21T10:38:33.146072Z",
     "iopub.status.busy": "2024-03-21T10:38:33.145637Z",
     "iopub.status.idle": "2024-03-21T10:38:33.153440Z",
     "shell.execute_reply": "2024-03-21T10:38:33.151232Z",
     "shell.execute_reply.started": "2024-03-21T10:38:33.146050Z"
    },
    "id": "b7d5e4d1-cfcd-4abd-8d7e-b920bd3295b1"
   },
   "outputs": [],
   "source": [
    "def sparce_matrix_report(matrix):\n",
    "    print('Size of raw data:', matrix.data.nbytes / 10**6, 'Mb')\n",
    "    print('Feedback matrix size:', matrix.shape)"
   ]
  },
  {
   "cell_type": "code",
   "execution_count": 4,
   "id": "d3992814-d1da-48c9-b42e-0c8b596de5ad",
   "metadata": {
    "colab": {
     "base_uri": "https://localhost:8080/"
    },
    "execution": {
     "iopub.execute_input": "2024-03-21T10:38:33.823522Z",
     "iopub.status.busy": "2024-03-21T10:38:33.822742Z",
     "iopub.status.idle": "2024-03-21T10:38:33.828502Z",
     "shell.execute_reply": "2024-03-21T10:38:33.827613Z",
     "shell.execute_reply.started": "2024-03-21T10:38:33.823495Z"
    },
    "id": "d3992814-d1da-48c9-b42e-0c8b596de5ad",
    "outputId": "604ebf73-4d8e-4b14-c919-7488f330136f"
   },
   "outputs": [
    {
     "name": "stdout",
     "output_type": "stream",
     "text": [
      "Size of raw data: 46.339384 Mb\n",
      "Feedback matrix size: (75910, 104503)\n"
     ]
    }
   ],
   "source": [
    "sparce_matrix_report(user_item_matrix)"
   ]
  },
  {
   "cell_type": "code",
   "execution_count": 5,
   "id": "4cd37f54",
   "metadata": {
    "ExecuteTime": {
     "end_time": "2023-06-07T21:32:24.023986Z",
     "start_time": "2023-06-07T21:32:23.942940Z"
    },
    "execution": {
     "iopub.execute_input": "2024-03-21T10:38:46.019297Z",
     "iopub.status.busy": "2024-03-21T10:38:46.018979Z",
     "iopub.status.idle": "2024-03-21T10:38:46.119795Z",
     "shell.execute_reply": "2024-03-21T10:38:46.119352Z",
     "shell.execute_reply.started": "2024-03-21T10:38:46.019277Z"
    },
    "id": "4cd37f54"
   },
   "outputs": [],
   "source": [
    "item_weights = np.array(user_item_matrix.tocsc().sum(0))[0]\n",
    "top_to_bottom_order = np.argsort(-item_weights)\n",
    "item_mapping = np.empty(top_to_bottom_order.shape, dtype=int)\n",
    "item_mapping[top_to_bottom_order] = np.arange(len(top_to_bottom_order))\n",
    "total_item_count = (item_weights > 0).sum()\n",
    "total_user_count = user_item_matrix.shape[0]\n",
    "\n",
    "\n",
    "def build_debug_dataset(user_item_matrix, item_pct: float, user_pct: float):\n",
    "    '''Get given percent of top rated items and given percent of random users'''\n",
    "    user_count = int(total_user_count * user_pct),\n",
    "    item_count = int(total_item_count * item_pct)\n",
    "    item_ids = top_to_bottom_order[:item_count]\n",
    "    user_ids = np.random.choice(\n",
    "        np.arange(user_item_matrix.shape[0]), size=user_count, replace=False\n",
    "    )\n",
    "    train = user_item_matrix[user_ids]\n",
    "    train = train[:, item_ids]\n",
    "    return train"
   ]
  },
  {
   "cell_type": "code",
   "execution_count": 6,
   "id": "820abbd7-d8f2-42df-aa6a-e3a6e360c94d",
   "metadata": {
    "ExecuteTime": {
     "end_time": "2023-06-07T21:32:24.803339Z",
     "start_time": "2023-06-07T21:32:24.782858Z"
    },
    "colab": {
     "base_uri": "https://localhost:8080/"
    },
    "execution": {
     "iopub.execute_input": "2024-03-21T10:39:09.832524Z",
     "iopub.status.busy": "2024-03-21T10:39:09.831807Z",
     "iopub.status.idle": "2024-03-21T10:39:09.855133Z",
     "shell.execute_reply": "2024-03-21T10:39:09.854617Z",
     "shell.execute_reply.started": "2024-03-21T10:39:09.832486Z"
    },
    "id": "820abbd7-d8f2-42df-aa6a-e3a6e360c94d",
    "outputId": "1fe0722b-6db2-4e0c-ac39-e4a5fd0bb1f2"
   },
   "outputs": [
    {
     "name": "stdout",
     "output_type": "stream",
     "text": [
      "Size of raw data: 1.097232 Mb\n",
      "Feedback matrix size: (3795, 5019)\n"
     ]
    }
   ],
   "source": [
    "debug_dataset = build_debug_dataset(user_item_matrix, 0.05, 0.05)\n",
    "\n",
    "sparce_matrix_report(debug_dataset)"
   ]
  },
  {
   "cell_type": "markdown",
   "id": "8f5d59e1",
   "metadata": {
    "id": "8f5d59e1"
   },
   "source": [
    "This is useful for debugging (just to save time).\n",
    "\n",
    "**Final answers should use full dataset!!!**"
   ]
  },
  {
   "cell_type": "markdown",
   "id": "536eb9ab",
   "metadata": {
    "id": "536eb9ab"
   },
   "source": [
    "## Split dataset matrix (5 points)\n",
    "\n",
    "in the following way: for 20% of users (random) remove one like - this will be test data. The rest is train data. (10 points)"
   ]
  },
  {
   "cell_type": "code",
   "execution_count": 7,
   "id": "95714ebd",
   "metadata": {
    "ExecuteTime": {
     "end_time": "2023-11-06T04:49:46.392558Z",
     "start_time": "2023-11-06T04:49:46.385337Z"
    },
    "id": "95714ebd"
   },
   "outputs": [],
   "source": [
    "def split_data(ratings):\n",
    "    ratings_coo = ratings.tocoo()\n",
    "    total_interactions_count = ratings.count_nonzero()\n",
    "    users_count = ratings_coo.row.max() + 1\n",
    "    test_users_count = int(0.2 * users_count)\n",
    "    test_interactions_count = test_users_count\n",
    "    train_interactions_count = total_interactions_count - test_interactions_count\n",
    "    two_plus_interactions = (ratings.sum(1) > 1).flatten().A1\n",
    "    test_users_idxs = set(np.random.choice(np.arange(ratings_coo.row.max() + 1)[two_plus_interactions],\n",
    "                                           size=test_users_count,\n",
    "                                           replace=False))\n",
    "\n",
    "    test_users_coo = np.zeros(test_interactions_count, dtype=np.int64)\n",
    "    test_items_coo = np.zeros(test_interactions_count, dtype=np.int64)\n",
    "    train_users_coo = np.zeros(train_interactions_count, dtype=np.int64)\n",
    "    train_items_coo = np.zeros(train_interactions_count, dtype=np.int64)\n",
    "\n",
    "    train_pos = 0\n",
    "    test_pos = 0\n",
    "    for user_id, item_ids in enumerate(ratings):\n",
    "        item_ids = item_ids.tocoo().col\n",
    "        if user_id in test_users_idxs:\n",
    "            test_users_coo[test_pos] = user_id\n",
    "            test_items_coo[test_pos] = item_ids[-1]\n",
    "            test_pos += 1\n",
    "            item_ids = item_ids[:-1]\n",
    "        train_users_coo[train_pos : train_pos + item_ids.size] = user_id\n",
    "        train_items_coo[train_pos : train_pos + item_ids.size] = item_ids\n",
    "        train_pos += item_ids.size\n",
    "\n",
    "    train_shape = (max(train_users_coo) + 1, max(train_items_coo) + 1)\n",
    "    train_matrix = sp.coo_matrix(\n",
    "        (np.ones(len(train_users_coo)), (train_users_coo, train_items_coo)),\n",
    "        shape=train_shape\n",
    "    )\n",
    "    train_matrix = train_matrix.tocsr()\n",
    "\n",
    "    test_shape = (max(test_users_coo) + 1, max(test_items_coo) + 1)\n",
    "    test_matrix = sp.coo_matrix(\n",
    "        (np.ones(len(test_users_coo)), (test_users_coo, test_items_coo)),\n",
    "        shape=test_shape\n",
    "    )\n",
    "    test_matrix = test_matrix.tocsr()\n",
    "    return train_matrix, test_matrix"
   ]
  },
  {
   "cell_type": "code",
   "execution_count": 8,
   "id": "e7bbfe9c",
   "metadata": {
    "colab": {
     "base_uri": "https://localhost:8080/",
     "height": 49,
     "referenced_widgets": [
      "a9d71e2a87544aa787e4e82359a8d44d",
      "e69a2b48b14a4b208551b4c77eee4c30",
      "466b523e91e440dd821f55451eeda43c",
      "075da7e6e2384d3fb0f5ae9da5455f13",
      "7d71869db6124b889a34ce4cee4e2598",
      "8a017cf863a5458e8e21e329b611e113",
      "116fa9fbd06d4c4d8a5965cfbeeb30f2",
      "84f12c88902e4753a57e0bf9d94d2139",
      "0237a9a9c6e949dbaaa8c590587e4b41",
      "5fdcb6e45d65474b8e7e022924896ea3",
      "6115fef64537416ab9acd96cab801c5a"
     ]
    },
    "id": "e7bbfe9c",
    "outputId": "946230a9-4593-4680-d301-ca8ebd98afdf"
   },
   "outputs": [],
   "source": [
    "train_ratings, test_ratings = split_data(user_item_matrix)\n",
    "\n",
    "# SPLIT TESTS\n",
    "sample_number = 100\n",
    "splt_train = train_ratings[:sample_number].toarray()\n",
    "splt_test = test_ratings[:sample_number].toarray()\n",
    "idxs = np.arange(sample_number)\n",
    "for idx in idxs:\n",
    "    test_item = np.arange(splt_test.shape[1])[splt_test[idx] == 1]\n",
    "    train_set = set(np.arange(splt_train.shape[1])[splt_train[idx] == 1])\n",
    "    data_set = set(user_item_matrix[idx].tocoo().col)\n",
    "    if test_item.size == 0:\n",
    "        assert train_set == data_set\n",
    "    else:\n",
    "        assert train_set != data_set\n",
    "        assert (train_set | set(test_item)) == data_set"
   ]
  },
  {
   "cell_type": "code",
   "execution_count": 9,
   "id": "rCKu5n8xSE7o",
   "metadata": {
    "colab": {
     "base_uri": "https://localhost:8080/",
     "height": 173
    },
    "id": "rCKu5n8xSE7o",
    "outputId": "cae24b18-4177-4cff-ca48-b8e8cd33b474"
   },
   "outputs": [
    {
     "name": "stdout",
     "output_type": "stream",
     "text": [
      "Size of raw data: 0.121456 Mb\n",
      "Feedback matrix size: (75909, 104503)\n"
     ]
    }
   ],
   "source": [
    "debug_dataset = build_debug_dataset(train_ratings, 0.05, 0.05)\n",
    "\n",
    "sparce_matrix_report(test_ratings)"
   ]
  },
  {
   "cell_type": "code",
   "execution_count": 10,
   "id": "af28500d",
   "metadata": {},
   "outputs": [],
   "source": [
    "train_debug, test_debug = split_data(debug_dataset)\n",
    "\n",
    "# SPLIT TESTS\n",
    "sample_number = 100\n",
    "splt_train = train_debug[:sample_number].toarray()\n",
    "splt_test = test_debug[:sample_number].toarray()\n",
    "idxs = np.arange(sample_number)\n",
    "for idx in idxs:\n",
    "    test_item = np.arange(splt_test.shape[1])[splt_test[idx] == 1]\n",
    "    train_set = set(np.arange(splt_train.shape[1])[splt_train[idx] == 1])\n",
    "    data_set = set(debug_dataset[idx].tocoo().col)\n",
    "    if test_item.size == 0:\n",
    "        assert train_set == data_set\n",
    "    else:\n",
    "        assert train_set != data_set\n",
    "        assert (train_set | set(test_item)) == data_set"
   ]
  },
  {
   "cell_type": "markdown",
   "id": "e8ed4c71-6501-4d34-951b-faf6fd4ce897",
   "metadata": {
    "id": "e8ed4c71-6501-4d34-951b-faf6fd4ce897"
   },
   "source": [
    "## Implement ALS, IALS (10 points each)\n",
    "\n",
    "Note that due to size of data you need to implement algorithms with _sparce matrices_!"
   ]
  },
  {
   "cell_type": "code",
   "execution_count": 34,
   "id": "c754eff7",
   "metadata": {
    "ExecuteTime": {
     "end_time": "2023-11-06T04:20:55.888362Z",
     "start_time": "2023-11-06T04:20:55.881115Z"
    },
    "id": "c754eff7"
   },
   "outputs": [],
   "source": [
    "def calc_oposite_vectors_als(Y, A, k, lam):\n",
    "    B = Y.T @ Y + lam * np.eye(k)\n",
    "    C = A @ Y\n",
    "    return (np.linalg.inv(B) @ C.T).T\n",
    "\n",
    "\n",
    "def als(ratings, k: int, lam: float = 1.0, debug: bool = False):\n",
    "    '''Alternating Least Squares algorithm\n",
    "\n",
    "    Args:\n",
    "        ratings: sparce matrix of ratings\n",
    "        k: size of embeddings\n",
    "        lam: regularization term\n",
    "\n",
    "    Returns:\n",
    "        two matrices: of user embeddings and of item embeddings\n",
    "    '''\n",
    "    X, Y = np.random.rand(ratings.shape[0], k) * 0.01, np.random.rand(ratings.shape[1], k) * 0.01\n",
    "    ratings = ratings.tocsr()\n",
    "    if debug:\n",
    "        frobenius_norms = [np.sum((ratings - X.dot(Y.T)) ** 2)]\n",
    "    else:\n",
    "        frobenius_norms = None\n",
    "\n",
    "    for i in tqdm(range(10)):\n",
    "        X = calc_oposite_vectors_als(Y, ratings, k, lam)\n",
    "        if debug:\n",
    "            frobenius_norms.append(np.sum((ratings - X.dot(Y.T)) ** 2))\n",
    "        Y = calc_oposite_vectors_als(X, ratings.T, k, lam)\n",
    "        if debug:\n",
    "            frobenius_norms.append(np.sum((ratings - X.dot(Y.T)) ** 2))\n",
    "\n",
    "    return X, Y, frobenius_norms"
   ]
  },
  {
   "cell_type": "code",
   "execution_count": 56,
   "id": "a23590cd",
   "metadata": {},
   "outputs": [],
   "source": [
    "def calc_oposite_vectors_implicit(X, Y, A, conf_A, k, lam):\n",
    "    factor_eye = lam * sp.eye(k)\n",
    "    Y_eye = sp.eye(Y.shape[0])\n",
    "    YT_Y = Y.T @ Y + factor_eye\n",
    "\n",
    "    for row in tqdm(range(A.shape[0])):\n",
    "        conf_row = conf_A[row, :].toarray()\n",
    "        nonzeros = conf_row.copy()\n",
    "        nonzeros[nonzeros != 0] = 1\n",
    "        conf_I = sp.diags(conf_row + 1, [0])\n",
    "        factor_conf = Y.T.dot(conf_I).dot(Y)\n",
    "\n",
    "        C = Y.T.dot(conf_I + Y_eye).dot(nonzeros.T)\n",
    "        B = YT_Y + factor_conf + factor_eye\n",
    "        X[row, :] = sp.linalg.inv(B) @ C\n",
    "\n",
    "\n",
    "def ials(ratings, k: int, lam: float = 1.0, alpha: int = 1000, debug: bool = True):\n",
    "    '''Implicit Alternating Least Squares algorithm\n",
    "\n",
    "    Args:\n",
    "        ratings: sparce matrix of ratings\n",
    "        k: size of embeddings\n",
    "        lam: regularization term\n",
    "\n",
    "    Returns:\n",
    "        two matrices: of user embeddings and of item embeddings\n",
    "    '''\n",
    "    X, Y = sp.random(ratings.shape[0], k), sp.random(ratings.shape[1], k)\n",
    "    X = X.tocsr()\n",
    "    Y = Y.tocsr()\n",
    "    ratings = ratings.tocsr()\n",
    "    ratings_T = ratings.T\n",
    "    ratings_conf = alpha * ratings\n",
    "    print(X.shape, ratings.shape, ratings_conf.shape, ratings.shape[0])\n",
    "    if debug:\n",
    "        frobenius_norms = [np.sum((ratings - X.dot(Y.T)).power(2))]\n",
    "    else:\n",
    "        frobenius_norms = None\n",
    "\n",
    "    for i in range(10):\n",
    "        calc_oposite_vectors_implicit(X, Y, ratings, ratings_conf, k, lam)\n",
    "        if debug:\n",
    "            frobenius_norms.append(np.sum((ratings - X.dot(Y.T)).power(2)))\n",
    "        calc_oposite_vectors_implicit(Y, X, ratings.T, ratings_conf.T, k, lam)\n",
    "        if debug:\n",
    "            frobenius_norms.append(np.sum((ratings - X.dot(Y.T)).power(2)))\n",
    "\n",
    "    return X, Y, frobenius_norms"
   ]
  },
  {
   "cell_type": "code",
   "execution_count": 57,
   "id": "12e9757f",
   "metadata": {},
   "outputs": [
    {
     "name": "stdout",
     "output_type": "stream",
     "text": [
      "(3795, 100) (3795, 5019) (3795, 5019) 3795\n"
     ]
    },
    {
     "data": {
      "application/vnd.jupyter.widget-view+json": {
       "model_id": "09f9fa12d41844b8b8948e0e721e0fe7",
       "version_major": 2,
       "version_minor": 0
      },
      "text/plain": [
       "  0%|          | 0/3795 [00:00<?, ?it/s]"
      ]
     },
     "metadata": {},
     "output_type": "display_data"
    },
    {
     "name": "stderr",
     "output_type": "stream",
     "text": [
      "/opt/anaconda3/envs/recsys/lib/python3.10/site-packages/scipy/sparse/_index.py:143: SparseEfficiencyWarning: Changing the sparsity structure of a csr_matrix is expensive. lil_matrix is more efficient.\n",
      "  self._set_arrayXarray(i, j, x)\n"
     ]
    },
    {
     "data": {
      "application/vnd.jupyter.widget-view+json": {
       "model_id": "45197ead69fc46a090c8af3f4780d342",
       "version_major": 2,
       "version_minor": 0
      },
      "text/plain": [
       "  0%|          | 0/5019 [00:00<?, ?it/s]"
      ]
     },
     "metadata": {},
     "output_type": "display_data"
    },
    {
     "ename": "KeyboardInterrupt",
     "evalue": "",
     "output_type": "error",
     "traceback": [
      "\u001b[0;31m---------------------------------------------------------------------------\u001b[0m",
      "\u001b[0;31mKeyboardInterrupt\u001b[0m                         Traceback (most recent call last)",
      "Cell \u001b[0;32mIn[57], line 1\u001b[0m\n\u001b[0;32m----> 1\u001b[0m X, Y, norms \u001b[38;5;241m=\u001b[39m \u001b[43mials\u001b[49m\u001b[43m(\u001b[49m\u001b[43mtrain_debug\u001b[49m\u001b[43m,\u001b[49m\u001b[43m \u001b[49m\u001b[38;5;241;43m100\u001b[39;49m\u001b[43m)\u001b[49m\n",
      "Cell \u001b[0;32mIn[56], line 45\u001b[0m, in \u001b[0;36mials\u001b[0;34m(ratings, k, lam, alpha, debug)\u001b[0m\n\u001b[1;32m     43\u001b[0m \u001b[38;5;28;01mif\u001b[39;00m debug:\n\u001b[1;32m     44\u001b[0m     frobenius_norms\u001b[38;5;241m.\u001b[39mappend(np\u001b[38;5;241m.\u001b[39msum((ratings \u001b[38;5;241m-\u001b[39m X\u001b[38;5;241m.\u001b[39mdot(Y\u001b[38;5;241m.\u001b[39mT))\u001b[38;5;241m.\u001b[39mpower(\u001b[38;5;241m2\u001b[39m)))\n\u001b[0;32m---> 45\u001b[0m \u001b[43mcalc_oposite_vectors_implicit\u001b[49m\u001b[43m(\u001b[49m\u001b[43mY\u001b[49m\u001b[43m,\u001b[49m\u001b[43m \u001b[49m\u001b[43mX\u001b[49m\u001b[43m,\u001b[49m\u001b[43m \u001b[49m\u001b[43mratings_T\u001b[49m\u001b[43m,\u001b[49m\u001b[43m \u001b[49m\u001b[43mratings_conf\u001b[49m\u001b[38;5;241;43m.\u001b[39;49m\u001b[43mT\u001b[49m\u001b[43m,\u001b[49m\u001b[43m \u001b[49m\u001b[43mk\u001b[49m\u001b[43m,\u001b[49m\u001b[43m \u001b[49m\u001b[43mlam\u001b[49m\u001b[43m)\u001b[49m\n\u001b[1;32m     46\u001b[0m \u001b[38;5;28;01mif\u001b[39;00m debug:\n\u001b[1;32m     47\u001b[0m     frobenius_norms\u001b[38;5;241m.\u001b[39mappend(np\u001b[38;5;241m.\u001b[39msum((ratings \u001b[38;5;241m-\u001b[39m X\u001b[38;5;241m.\u001b[39mdot(Y\u001b[38;5;241m.\u001b[39mT))\u001b[38;5;241m.\u001b[39mpower(\u001b[38;5;241m2\u001b[39m)))\n",
      "Cell \u001b[0;32mIn[56], line 11\u001b[0m, in \u001b[0;36mcalc_oposite_vectors_implicit\u001b[0;34m(X, Y, A, conf_A, k, lam)\u001b[0m\n\u001b[1;32m      9\u001b[0m nonzeros[nonzeros \u001b[38;5;241m!=\u001b[39m \u001b[38;5;241m0\u001b[39m] \u001b[38;5;241m=\u001b[39m \u001b[38;5;241m1\u001b[39m\n\u001b[1;32m     10\u001b[0m conf_I \u001b[38;5;241m=\u001b[39m sp\u001b[38;5;241m.\u001b[39mdiags(conf_row \u001b[38;5;241m+\u001b[39m \u001b[38;5;241m1\u001b[39m, [\u001b[38;5;241m0\u001b[39m])\n\u001b[0;32m---> 11\u001b[0m factor_conf \u001b[38;5;241m=\u001b[39m \u001b[43mY\u001b[49m\u001b[38;5;241;43m.\u001b[39;49m\u001b[43mT\u001b[49m\u001b[38;5;241;43m.\u001b[39;49m\u001b[43mdot\u001b[49m\u001b[43m(\u001b[49m\u001b[43mconf_I\u001b[49m\u001b[43m)\u001b[49m\u001b[38;5;241m.\u001b[39mdot(Y)\n\u001b[1;32m     13\u001b[0m C \u001b[38;5;241m=\u001b[39m Y\u001b[38;5;241m.\u001b[39mT\u001b[38;5;241m.\u001b[39mdot(conf_I \u001b[38;5;241m+\u001b[39m Y_eye)\u001b[38;5;241m.\u001b[39mdot(nonzeros\u001b[38;5;241m.\u001b[39mT)\n\u001b[1;32m     14\u001b[0m B \u001b[38;5;241m=\u001b[39m YT_Y \u001b[38;5;241m+\u001b[39m factor_conf \u001b[38;5;241m+\u001b[39m factor_eye\n",
      "File \u001b[0;32m/opt/anaconda3/envs/recsys/lib/python3.10/site-packages/scipy/sparse/_base.py:411\u001b[0m, in \u001b[0;36m_spbase.dot\u001b[0;34m(self, other)\u001b[0m\n\u001b[1;32m    409\u001b[0m     \u001b[38;5;28;01mreturn\u001b[39;00m \u001b[38;5;28mself\u001b[39m \u001b[38;5;241m*\u001b[39m other\n\u001b[1;32m    410\u001b[0m \u001b[38;5;28;01melse\u001b[39;00m:\n\u001b[0;32m--> 411\u001b[0m     \u001b[38;5;28;01mreturn\u001b[39;00m \u001b[38;5;28;43mself\u001b[39;49m\u001b[43m \u001b[49m\u001b[38;5;241;43m@\u001b[39;49m\u001b[43m \u001b[49m\u001b[43mother\u001b[49m\n",
      "File \u001b[0;32m/opt/anaconda3/envs/recsys/lib/python3.10/site-packages/scipy/sparse/_base.py:624\u001b[0m, in \u001b[0;36m_spbase.__matmul__\u001b[0;34m(self, other)\u001b[0m\n\u001b[1;32m    621\u001b[0m \u001b[38;5;28;01mif\u001b[39;00m isscalarlike(other):\n\u001b[1;32m    622\u001b[0m     \u001b[38;5;28;01mraise\u001b[39;00m \u001b[38;5;167;01mValueError\u001b[39;00m(\u001b[38;5;124m\"\u001b[39m\u001b[38;5;124mScalar operands are not allowed, \u001b[39m\u001b[38;5;124m\"\u001b[39m\n\u001b[1;32m    623\u001b[0m                      \u001b[38;5;124m\"\u001b[39m\u001b[38;5;124muse \u001b[39m\u001b[38;5;124m'\u001b[39m\u001b[38;5;124m*\u001b[39m\u001b[38;5;124m'\u001b[39m\u001b[38;5;124m instead\u001b[39m\u001b[38;5;124m\"\u001b[39m)\n\u001b[0;32m--> 624\u001b[0m \u001b[38;5;28;01mreturn\u001b[39;00m \u001b[38;5;28;43mself\u001b[39;49m\u001b[38;5;241;43m.\u001b[39;49m\u001b[43m_mul_dispatch\u001b[49m\u001b[43m(\u001b[49m\u001b[43mother\u001b[49m\u001b[43m)\u001b[49m\n",
      "File \u001b[0;32m/opt/anaconda3/envs/recsys/lib/python3.10/site-packages/scipy/sparse/_base.py:535\u001b[0m, in \u001b[0;36m_spbase._mul_dispatch\u001b[0;34m(self, other)\u001b[0m\n\u001b[1;32m    533\u001b[0m     \u001b[38;5;28;01mif\u001b[39;00m \u001b[38;5;28mself\u001b[39m\u001b[38;5;241m.\u001b[39mshape[\u001b[38;5;241m1\u001b[39m] \u001b[38;5;241m!=\u001b[39m other\u001b[38;5;241m.\u001b[39mshape[\u001b[38;5;241m0\u001b[39m]:\n\u001b[1;32m    534\u001b[0m         \u001b[38;5;28;01mraise\u001b[39;00m \u001b[38;5;167;01mValueError\u001b[39;00m(\u001b[38;5;124m'\u001b[39m\u001b[38;5;124mdimension mismatch\u001b[39m\u001b[38;5;124m'\u001b[39m)\n\u001b[0;32m--> 535\u001b[0m     \u001b[38;5;28;01mreturn\u001b[39;00m \u001b[38;5;28;43mself\u001b[39;49m\u001b[38;5;241;43m.\u001b[39;49m\u001b[43m_mul_sparse_matrix\u001b[49m\u001b[43m(\u001b[49m\u001b[43mother\u001b[49m\u001b[43m)\u001b[49m\n\u001b[1;32m    537\u001b[0m \u001b[38;5;66;03m# If it's a list or whatever, treat it like an array\u001b[39;00m\n\u001b[1;32m    538\u001b[0m other_a \u001b[38;5;241m=\u001b[39m np\u001b[38;5;241m.\u001b[39masanyarray(other)\n",
      "File \u001b[0;32m/opt/anaconda3/envs/recsys/lib/python3.10/site-packages/scipy/sparse/_compressed.py:532\u001b[0m, in \u001b[0;36m_cs_matrix._mul_sparse_matrix\u001b[0;34m(self, other)\u001b[0m\n\u001b[1;32m    529\u001b[0m data \u001b[38;5;241m=\u001b[39m np\u001b[38;5;241m.\u001b[39mempty(nnz, dtype\u001b[38;5;241m=\u001b[39mupcast(\u001b[38;5;28mself\u001b[39m\u001b[38;5;241m.\u001b[39mdtype, other\u001b[38;5;241m.\u001b[39mdtype))\n\u001b[1;32m    531\u001b[0m fn \u001b[38;5;241m=\u001b[39m \u001b[38;5;28mgetattr\u001b[39m(_sparsetools, \u001b[38;5;28mself\u001b[39m\u001b[38;5;241m.\u001b[39mformat \u001b[38;5;241m+\u001b[39m \u001b[38;5;124m'\u001b[39m\u001b[38;5;124m_matmat\u001b[39m\u001b[38;5;124m'\u001b[39m)\n\u001b[0;32m--> 532\u001b[0m \u001b[43mfn\u001b[49m\u001b[43m(\u001b[49m\u001b[43mM\u001b[49m\u001b[43m,\u001b[49m\u001b[43m \u001b[49m\u001b[43mN\u001b[49m\u001b[43m,\u001b[49m\u001b[43m \u001b[49m\u001b[43mnp\u001b[49m\u001b[38;5;241;43m.\u001b[39;49m\u001b[43masarray\u001b[49m\u001b[43m(\u001b[49m\u001b[38;5;28;43mself\u001b[39;49m\u001b[38;5;241;43m.\u001b[39;49m\u001b[43mindptr\u001b[49m\u001b[43m,\u001b[49m\u001b[43m \u001b[49m\u001b[43mdtype\u001b[49m\u001b[38;5;241;43m=\u001b[39;49m\u001b[43midx_dtype\u001b[49m\u001b[43m)\u001b[49m\u001b[43m,\u001b[49m\n\u001b[1;32m    533\u001b[0m \u001b[43m   \u001b[49m\u001b[43mnp\u001b[49m\u001b[38;5;241;43m.\u001b[39;49m\u001b[43masarray\u001b[49m\u001b[43m(\u001b[49m\u001b[38;5;28;43mself\u001b[39;49m\u001b[38;5;241;43m.\u001b[39;49m\u001b[43mindices\u001b[49m\u001b[43m,\u001b[49m\u001b[43m \u001b[49m\u001b[43mdtype\u001b[49m\u001b[38;5;241;43m=\u001b[39;49m\u001b[43midx_dtype\u001b[49m\u001b[43m)\u001b[49m\u001b[43m,\u001b[49m\n\u001b[1;32m    534\u001b[0m \u001b[43m   \u001b[49m\u001b[38;5;28;43mself\u001b[39;49m\u001b[38;5;241;43m.\u001b[39;49m\u001b[43mdata\u001b[49m\u001b[43m,\u001b[49m\n\u001b[1;32m    535\u001b[0m \u001b[43m   \u001b[49m\u001b[43mnp\u001b[49m\u001b[38;5;241;43m.\u001b[39;49m\u001b[43masarray\u001b[49m\u001b[43m(\u001b[49m\u001b[43mother\u001b[49m\u001b[38;5;241;43m.\u001b[39;49m\u001b[43mindptr\u001b[49m\u001b[43m,\u001b[49m\u001b[43m \u001b[49m\u001b[43mdtype\u001b[49m\u001b[38;5;241;43m=\u001b[39;49m\u001b[43midx_dtype\u001b[49m\u001b[43m)\u001b[49m\u001b[43m,\u001b[49m\n\u001b[1;32m    536\u001b[0m \u001b[43m   \u001b[49m\u001b[43mnp\u001b[49m\u001b[38;5;241;43m.\u001b[39;49m\u001b[43masarray\u001b[49m\u001b[43m(\u001b[49m\u001b[43mother\u001b[49m\u001b[38;5;241;43m.\u001b[39;49m\u001b[43mindices\u001b[49m\u001b[43m,\u001b[49m\u001b[43m \u001b[49m\u001b[43mdtype\u001b[49m\u001b[38;5;241;43m=\u001b[39;49m\u001b[43midx_dtype\u001b[49m\u001b[43m)\u001b[49m\u001b[43m,\u001b[49m\n\u001b[1;32m    537\u001b[0m \u001b[43m   \u001b[49m\u001b[43mother\u001b[49m\u001b[38;5;241;43m.\u001b[39;49m\u001b[43mdata\u001b[49m\u001b[43m,\u001b[49m\n\u001b[1;32m    538\u001b[0m \u001b[43m   \u001b[49m\u001b[43mindptr\u001b[49m\u001b[43m,\u001b[49m\u001b[43m \u001b[49m\u001b[43mindices\u001b[49m\u001b[43m,\u001b[49m\u001b[43m \u001b[49m\u001b[43mdata\u001b[49m\u001b[43m)\u001b[49m\n\u001b[1;32m    540\u001b[0m \u001b[38;5;28;01mreturn\u001b[39;00m \u001b[38;5;28mself\u001b[39m\u001b[38;5;241m.\u001b[39m\u001b[38;5;18m__class__\u001b[39m((data, indices, indptr), shape\u001b[38;5;241m=\u001b[39m(M, N))\n",
      "\u001b[0;31mKeyboardInterrupt\u001b[0m: "
     ]
    }
   ],
   "source": [
    "X, Y, norms = ials(train_debug, 100)"
   ]
  },
  {
   "cell_type": "markdown",
   "id": "ce1d293f",
   "metadata": {
    "id": "ce1d293f"
   },
   "source": [
    "## Compute MRR@100 metric for test users (10 points)\n",
    "\n",
    "For ALS and IALS algorithms.\n",
    "\n",
    "**Don't forget to use full dataset!**"
   ]
  },
  {
   "cell_type": "code",
   "execution_count": 31,
   "id": "9e41a603",
   "metadata": {},
   "outputs": [],
   "source": [
    "def get_predictions(X, Y, train_ratings, user):\n",
    "    preds = X[user, :] @ Y.T\n",
    "    user_train = train_ratings[user, :].toarray().flatten()\n",
    "    preds[user_train != 0] = -1\n",
    "    return preds\n",
    "\n",
    "\n",
    "def mrr(X, Y, train_ratings, test_ratings):\n",
    "    mrr = 0\n",
    "    users = np.unique(test_ratings.tocoo().row)\n",
    "    for user in tqdm(users):\n",
    "        user_preds = get_predictions(X, Y, train_ratings, user)\n",
    "        top_idxs = np.argsort(-user_preds)[:100]\n",
    "        user_test = test_ratings[user].toarray().flatten()\n",
    "        test_idx, *_ = np.arange(user_test.size)[user_test == 1]\n",
    "        if test_idx in top_idxs:\n",
    "            mrr += 1/(np.where(top_idxs == test_idx)[0][0] + 1)\n",
    "    mrr = mrr / users.size\n",
    "    return mrr"
   ]
  },
  {
   "cell_type": "code",
   "execution_count": null,
   "id": "aa61d1cc",
   "metadata": {
    "id": "aa61d1cc"
   },
   "outputs": [],
   "source": [
    "mrr_als = mrr(als_predictions, test_ratings)\n",
    "print(mrr_als)"
   ]
  },
  {
   "cell_type": "code",
   "execution_count": null,
   "id": "aa82ca33",
   "metadata": {
    "id": "aa82ca33"
   },
   "outputs": [],
   "source": [
    "mrr_ials = mrr(ials_predictions, test_ratings)\n",
    "print(mrr_ials)"
   ]
  },
  {
   "cell_type": "markdown",
   "id": "0ec74ade",
   "metadata": {
    "id": "0ec74ade"
   },
   "source": [
    "## Adjust hyperparameters of ALS and IALS to maximize MRR (20 points)\n",
    "\n",
    "Main hyperparameters are regularization and weights for implicit case."
   ]
  },
  {
   "cell_type": "code",
   "execution_count": 32,
   "id": "537dec10",
   "metadata": {},
   "outputs": [],
   "source": [
    "def get_mrr_for_parameters(train_ratings, test_ratings, k, lam):\n",
    "    X, Y, norms = als(train_ratings, k, lam=1.0)\n",
    "    return mrr(X, Y, train_ratings, test_ratings)"
   ]
  },
  {
   "cell_type": "code",
   "execution_count": 33,
   "id": "fd529264",
   "metadata": {},
   "outputs": [
    {
     "data": {
      "application/vnd.jupyter.widget-view+json": {
       "model_id": "4b55dc7813d740f3a6606d25c04e3659",
       "version_major": 2,
       "version_minor": 0
      },
      "text/plain": [
       "  0%|          | 0/10 [00:00<?, ?it/s]"
      ]
     },
     "metadata": {},
     "output_type": "display_data"
    },
    {
     "data": {
      "application/vnd.jupyter.widget-view+json": {
       "model_id": "10dfe114b54044da9d0e2aa24221ac31",
       "version_major": 2,
       "version_minor": 0
      },
      "text/plain": [
       "  0%|          | 0/15182 [00:00<?, ?it/s]"
      ]
     },
     "metadata": {},
     "output_type": "display_data"
    },
    {
     "data": {
      "application/vnd.jupyter.widget-view+json": {
       "model_id": "1d34a3f53f4847c6947e68c5122440f9",
       "version_major": 2,
       "version_minor": 0
      },
      "text/plain": [
       "  0%|          | 0/10 [00:00<?, ?it/s]"
      ]
     },
     "metadata": {},
     "output_type": "display_data"
    },
    {
     "data": {
      "application/vnd.jupyter.widget-view+json": {
       "model_id": "2c622b87514c48baa660c9c29c6f2252",
       "version_major": 2,
       "version_minor": 0
      },
      "text/plain": [
       "  0%|          | 0/15182 [00:00<?, ?it/s]"
      ]
     },
     "metadata": {},
     "output_type": "display_data"
    },
    {
     "data": {
      "application/vnd.jupyter.widget-view+json": {
       "model_id": "c336ce22759f412db15459b7ddabdf1f",
       "version_major": 2,
       "version_minor": 0
      },
      "text/plain": [
       "  0%|          | 0/10 [00:00<?, ?it/s]"
      ]
     },
     "metadata": {},
     "output_type": "display_data"
    },
    {
     "data": {
      "application/vnd.jupyter.widget-view+json": {
       "model_id": "5f8653601cff47348b73caff5b4ef160",
       "version_major": 2,
       "version_minor": 0
      },
      "text/plain": [
       "  0%|          | 0/15182 [00:00<?, ?it/s]"
      ]
     },
     "metadata": {},
     "output_type": "display_data"
    },
    {
     "data": {
      "application/vnd.jupyter.widget-view+json": {
       "model_id": "317e5134c8e64d8b8759b6be7000baec",
       "version_major": 2,
       "version_minor": 0
      },
      "text/plain": [
       "  0%|          | 0/10 [00:00<?, ?it/s]"
      ]
     },
     "metadata": {},
     "output_type": "display_data"
    },
    {
     "data": {
      "application/vnd.jupyter.widget-view+json": {
       "model_id": "ff1179aef5d84d6aaed1b0ecc0076161",
       "version_major": 2,
       "version_minor": 0
      },
      "text/plain": [
       "  0%|          | 0/15182 [00:00<?, ?it/s]"
      ]
     },
     "metadata": {},
     "output_type": "display_data"
    },
    {
     "data": {
      "application/vnd.jupyter.widget-view+json": {
       "model_id": "1eba76c60448436c8d98fb67aa76373f",
       "version_major": 2,
       "version_minor": 0
      },
      "text/plain": [
       "  0%|          | 0/10 [00:00<?, ?it/s]"
      ]
     },
     "metadata": {},
     "output_type": "display_data"
    },
    {
     "data": {
      "application/vnd.jupyter.widget-view+json": {
       "model_id": "ed82565f81ee47cf965d0c4b00fa24f6",
       "version_major": 2,
       "version_minor": 0
      },
      "text/plain": [
       "  0%|          | 0/15182 [00:00<?, ?it/s]"
      ]
     },
     "metadata": {},
     "output_type": "display_data"
    }
   ],
   "source": [
    "k_mrr = []\n",
    "for k in range(200, 1001, 200):\n",
    "    mrr_val = get_mrr_for_parameters(train_ratings, test_ratings, k, 1.0)\n",
    "    k_mrr.append((k, mrr_val))"
   ]
  },
  {
   "cell_type": "code",
   "execution_count": 35,
   "id": "d0c438be",
   "metadata": {},
   "outputs": [
    {
     "data": {
      "text/plain": [
       "[(200, 0.023234052317869958),\n",
       " (400, 0.024216651889841855),\n",
       " (600, 0.02320952721835958),\n",
       " (800, 0.02214539606119324),\n",
       " (1000, 0.022022385262858296)]"
      ]
     },
     "execution_count": 35,
     "metadata": {},
     "output_type": "execute_result"
    }
   ],
   "source": [
    "k_mrr"
   ]
  },
  {
   "cell_type": "code",
   "execution_count": 39,
   "id": "c34e2a13",
   "metadata": {},
   "outputs": [
    {
     "data": {
      "application/vnd.jupyter.widget-view+json": {
       "model_id": "0d06af90b2aa4bfbb8db693a450dd739",
       "version_major": 2,
       "version_minor": 0
      },
      "text/plain": [
       "  0%|          | 0/10 [00:00<?, ?it/s]"
      ]
     },
     "metadata": {},
     "output_type": "display_data"
    },
    {
     "data": {
      "application/vnd.jupyter.widget-view+json": {
       "model_id": "d2f85ef282ad4343af5de9d3de7453d8",
       "version_major": 2,
       "version_minor": 0
      },
      "text/plain": [
       "  0%|          | 0/15182 [00:00<?, ?it/s]"
      ]
     },
     "metadata": {},
     "output_type": "display_data"
    }
   ],
   "source": [
    "mrr_k100 = get_mrr_for_parameters(train_ratings, test_ratings, 100, 1.0)"
   ]
  },
  {
   "cell_type": "code",
   "execution_count": 40,
   "id": "fbac1fa5",
   "metadata": {},
   "outputs": [
    {
     "data": {
      "text/plain": [
       "0.02190305993295427"
      ]
     },
     "execution_count": 40,
     "metadata": {},
     "output_type": "execute_result"
    }
   ],
   "source": [
    "mrr_k100"
   ]
  },
  {
   "cell_type": "code",
   "execution_count": 41,
   "id": "d717a745",
   "metadata": {
    "scrolled": false
   },
   "outputs": [
    {
     "data": {
      "application/vnd.jupyter.widget-view+json": {
       "model_id": "66e0c497160048ff90f058d101993afa",
       "version_major": 2,
       "version_minor": 0
      },
      "text/plain": [
       "  0%|          | 0/10 [00:00<?, ?it/s]"
      ]
     },
     "metadata": {},
     "output_type": "display_data"
    },
    {
     "data": {
      "application/vnd.jupyter.widget-view+json": {
       "model_id": "7b42868e06bf444db886c2d1098183d3",
       "version_major": 2,
       "version_minor": 0
      },
      "text/plain": [
       "  0%|          | 0/15182 [00:00<?, ?it/s]"
      ]
     },
     "metadata": {},
     "output_type": "display_data"
    },
    {
     "data": {
      "application/vnd.jupyter.widget-view+json": {
       "model_id": "a492b8599e4c4b07949adc5ca430dbc7",
       "version_major": 2,
       "version_minor": 0
      },
      "text/plain": [
       "  0%|          | 0/10 [00:00<?, ?it/s]"
      ]
     },
     "metadata": {},
     "output_type": "display_data"
    },
    {
     "data": {
      "application/vnd.jupyter.widget-view+json": {
       "model_id": "64d71f78f43b46318f28306fece64fa8",
       "version_major": 2,
       "version_minor": 0
      },
      "text/plain": [
       "  0%|          | 0/15182 [00:00<?, ?it/s]"
      ]
     },
     "metadata": {},
     "output_type": "display_data"
    },
    {
     "data": {
      "application/vnd.jupyter.widget-view+json": {
       "model_id": "49998078b3bd4bd0a590a6b41be7121e",
       "version_major": 2,
       "version_minor": 0
      },
      "text/plain": [
       "  0%|          | 0/10 [00:00<?, ?it/s]"
      ]
     },
     "metadata": {},
     "output_type": "display_data"
    },
    {
     "data": {
      "application/vnd.jupyter.widget-view+json": {
       "model_id": "339be0b3e858499b942d6e01372ea981",
       "version_major": 2,
       "version_minor": 0
      },
      "text/plain": [
       "  0%|          | 0/15182 [00:00<?, ?it/s]"
      ]
     },
     "metadata": {},
     "output_type": "display_data"
    },
    {
     "data": {
      "application/vnd.jupyter.widget-view+json": {
       "model_id": "6d9858ab1dc0484cad5458fe6bdde954",
       "version_major": 2,
       "version_minor": 0
      },
      "text/plain": [
       "  0%|          | 0/10 [00:00<?, ?it/s]"
      ]
     },
     "metadata": {},
     "output_type": "display_data"
    },
    {
     "data": {
      "application/vnd.jupyter.widget-view+json": {
       "model_id": "3c9f3b4d4be1498c8ff838b139c66616",
       "version_major": 2,
       "version_minor": 0
      },
      "text/plain": [
       "  0%|          | 0/15182 [00:00<?, ?it/s]"
      ]
     },
     "metadata": {},
     "output_type": "display_data"
    }
   ],
   "source": [
    "lam_mrr = []\n",
    "for power in range(4):\n",
    "    lam = 10 ** (-power)\n",
    "    mrr_val = get_mrr_for_parameters(train_ratings, test_ratings, 200, lam)\n",
    "    lam_mrr.append((lam, mrr_val))"
   ]
  },
  {
   "cell_type": "code",
   "execution_count": 42,
   "id": "3450c51c",
   "metadata": {},
   "outputs": [
    {
     "data": {
      "text/plain": [
       "[(1, 0.023127817719911223),\n",
       " (0.1, 0.023133686767442492),\n",
       " (0.01, 0.02327026117597418),\n",
       " (0.001, 0.02279761543108987)]"
      ]
     },
     "execution_count": 42,
     "metadata": {},
     "output_type": "execute_result"
    }
   ],
   "source": [
    "lam_mrr"
   ]
  },
  {
   "cell_type": "code",
   "execution_count": null,
   "id": "d5558e37",
   "metadata": {
    "id": "d5558e37"
   },
   "outputs": [],
   "source": [
    "# your code here"
   ]
  },
  {
   "cell_type": "markdown",
   "id": "9ea3d1c3",
   "metadata": {
    "id": "9ea3d1c3"
   },
   "source": [
    "Optimal parameters of ALS are:\n",
    "\n",
    "....\n",
    "\n",
    "Optimal parameters of IALS are:\n",
    "\n",
    "...."
   ]
  },
  {
   "cell_type": "markdown",
   "id": "89abef6c",
   "metadata": {},
   "source": [
    "### Optimal paramters for ALS are: $k=400$, $\\lambda=10^{-1}$"
   ]
  },
  {
   "cell_type": "markdown",
   "id": "4b1bfd4f",
   "metadata": {
    "id": "4b1bfd4f"
   },
   "source": [
    "## Get similarities from item2item CF and SLIM (10 points each)\n",
    "\n",
    "Item2item can be taken from the first homework, SLIM was implemented in the class.\n",
    "\n",
    "Alternatively you could use libraries, but in this case you will need to convert dataset to their format.\n",
    "\n",
    "You need to compute only item similarities, not predictions for users."
   ]
  },
  {
   "cell_type": "code",
   "execution_count": null,
   "id": "33435a61",
   "metadata": {
    "id": "33435a61"
   },
   "outputs": [],
   "source": [
    "i2i_similarities = ... # your code here"
   ]
  },
  {
   "cell_type": "code",
   "execution_count": null,
   "id": "21e5b58e",
   "metadata": {
    "id": "21e5b58e"
   },
   "outputs": [],
   "source": [
    "slim_similarities = ... # your code here"
   ]
  },
  {
   "cell_type": "markdown",
   "id": "2d6b19e8",
   "metadata": {
    "id": "2d6b19e8"
   },
   "source": [
    "## Compare similarities from four algorithms (20 points)\n",
    "\n",
    "* plot distributions\n",
    "* compute metrics (which you think are relevant)\n",
    "* look at several top similar lists\n",
    "\n",
    "Make conclusion how these methods differ in computing similarities"
   ]
  },
  {
   "cell_type": "code",
   "execution_count": null,
   "id": "4a7d9d8d",
   "metadata": {
    "ExecuteTime": {
     "end_time": "2023-11-06T05:10:53.235810Z",
     "start_time": "2023-11-06T05:10:53.229989Z"
    },
    "id": "4a7d9d8d"
   },
   "outputs": [],
   "source": [
    "# your code here"
   ]
  },
  {
   "cell_type": "markdown",
   "id": "5544dc69",
   "metadata": {
    "ExecuteTime": {
     "end_time": "2023-11-06T05:12:40.299803Z",
     "start_time": "2023-11-06T05:12:40.290403Z"
    },
    "id": "5544dc69"
   },
   "source": [
    "Conclusion:\n",
    "\n",
    "...."
   ]
  },
  {
   "cell_type": "code",
   "execution_count": null,
   "id": "b0f6ec21",
   "metadata": {},
   "outputs": [],
   "source": [
    "def gradient_descent_const(grad, xcor, _lambda, x0, max_iter, tol, alpha, eps):\n",
    "    x = x0.copy()\n",
    "    conv = [x0.copy()]\n",
    "    for iter_idx in range(max_iter):\n",
    "        g = grad(x, xcor, _lambda, eps)\n",
    "        if np.linalg.norm(g) <= tol:\n",
    "            break\n",
    "        x = x - alpha * g\n",
    "        conv.append(x.copy())\n",
    "    return x, conv\n",
    "\n",
    "\n",
    "def nonzeros(m, row):\n",
    "    for index in xrange(m.indptr[row], m.indptr[row+1]):\n",
    "        yield m.indices[index], m.data[index]\n",
    "      \n",
    "      \n",
    "def implicit_als_cg(Cui, k=20, iterations=20, lambda_val=0.1):\n",
    "    user_size, item_size = Cui.shape\n",
    "\n",
    "    X = np.random.rand(user_size, k) * 0.01\n",
    "    Y = np.random.rand(item_size, k) * 0.01\n",
    "\n",
    "    Cui, Ciu = Cui.tocsr(), Cui.T.tocsr()\n",
    "\n",
    "    for iteration in xrange(iterations):\n",
    "        print 'iteration %d of %d' % (iteration+1, iterations)\n",
    "        least_squares_cg(Cui, X, Y, lambda_val)\n",
    "        least_squares_cg(Ciu, Y, X, lambda_val)\n",
    "    \n",
    "    return sparse.csr_matrix(X), sparse.csr_matrix(Y)\n",
    "  \n",
    "  \n",
    "  def least_squares_cg(Cui, X, Y, lambda_val, cg_steps=3):\n",
    "    users, features = X.shape\n",
    "    \n",
    "    YtY = Y.T.dot(Y) + lambda_val * np.eye(features)\n",
    "\n",
    "    for u in np.arange(users):\n",
    "\n",
    "        x = X[u]\n",
    "        r = -YtY.dot(x)\n",
    "\n",
    "        for i, confidence in nonzeros(Cui, u):\n",
    "            r += (confidence - (confidence - 1) * Y[i].dot(x)) * Y[i]\n",
    "\n",
    "        p = r.copy()\n",
    "        rsold = r.dot(r)\n",
    "        \n",
    "        \n",
    "        for _ in range(20):\n",
    "            g = -2 * sum(r_ij * yj) + xi.T * sum(y_j * y_j.T + lambda_val)\n",
    "            x = x - alpha * g\n",
    "            \n",
    "            \n",
    "            \n",
    "        for it in xrange(cg_steps):\n",
    "            Ap = YtY.dot(p)\n",
    "            for i, confidence in nonzeros(Cui, u):\n",
    "                Ap += (confidence - 1) * Y[i].dot(p) * Y[i]\n",
    "\n",
    "            alpha = rsold / p.dot(Ap)\n",
    "            x += alpha * p\n",
    "            r -= alpha * Ap\n",
    "\n",
    "            rsnew = r.dot(r)\n",
    "            p = r + (rsnew / rsold) * p\n",
    "            rsold = rsnew\n",
    "\n",
    "        X[u] = x\n",
    "\n",
    "alpha_val = 15\n",
    "conf_data = (data_sparse * alpha_val).astype('double')\n",
    "user_vecs, item_vecs = implicit_als_cg(conf_data, iterations=20, k=20)\n"
   ]
  },
  {
   "cell_type": "code",
   "execution_count": 265,
   "id": "8a751bd1",
   "metadata": {
    "id": "8a751bd1"
   },
   "outputs": [],
   "source": [
    "def als_algorithm(dataset, regularization=0.1, alpha_parameter=40, iterations=10, factors=20, random_state=0):\n",
    "    \"\"\"Implements implicit ALS (Alternating Least Squares) algorithm for collaborative filtering.\n",
    "\n",
    "    Parameters\n",
    "    ----------\n",
    "    dataset:\n",
    "        Training dataset.\n",
    "    regularization:\n",
    "        Regularization parameter (used for creating regularization term).\n",
    "    alpha_parameter:\n",
    "        Alpha parameter (used for creating confidence matrix).\n",
    "    iterations:\n",
    "        Number of iterations.\n",
    "    factors:\n",
    "        Number of user and item factors.\n",
    "    random_state:\n",
    "        Random state for feature vector initialization.\n",
    "\n",
    "    Returns\n",
    "    -------\n",
    "        user_matrix, item_matrix.T: Matrices with feature vectors for users and items.\n",
    "    \"\"\"\n",
    "    # Create confidence matrix\n",
    "    confidence_matrix = alpha_parameter * dataset\n",
    "    # To allow the matrix to stay sparse, I will add one later when each row is taken and converted to dense.\n",
    "    num_users, num_items = confidence_matrix.shape[0], confidence_matrix.shape[1]\n",
    "\n",
    "    # Set random seed for feature vector initialization\n",
    "    random_state = np.random.RandomState(random_state)\n",
    "\n",
    "    # Create sparse matrices for users and items with given rank and initialize them with random_state\n",
    "    user_matrix = sparse.csr_matrix(random_state.normal(size=(num_users, factors)))  # Matrix: m x factors\n",
    "    item_matrix = sparse.csr_matrix(random_state.normal(size=(num_items, factors)))  # Matrix: n x factors\n",
    "\n",
    "    # Create sparse eye matrices for users and items\n",
    "    user_eye = sparse.eye(num_users)\n",
    "    item_eye = sparse.eye(num_items)\n",
    "\n",
    "    # Create regularization term: Lambda * I\n",
    "    lambda_eye = regularization * sparse.eye(factors)\n",
    "\n",
    "    # Begin iterations (solving user given fixed items and items given fixed users)\n",
    "    for _ in tqdm(range(iterations)):\n",
    "        userTuser = user_matrix.T.dot(user_matrix)\n",
    "        itemTitem = item_matrix.T.dot(item_matrix)\n",
    "\n",
    "        # Solve users based on fixed items\n",
    "        for user in tqdm(range(num_users)):\n",
    "            # Select confidence matrix row for given user\n",
    "            confidence_row = confidence_matrix[user, :].toarray()\n",
    "\n",
    "            # Create binarized preference vector\n",
    "            preference_vector = confidence_row.copy()\n",
    "            preference_vector[preference_vector != 0] = 1\n",
    "\n",
    "            # Increment user index so every user-item is given minimal confidence\n",
    "            confidence_row += 1\n",
    "\n",
    "            # Calculate Cu - I term\n",
    "            CuI = sparse.diags(confidence_row, [0])\n",
    "\n",
    "            # Calculate itemT*(Cu - I)*item  term\n",
    "            itemTCuIitem = item_matrix.T.dot(CuI).dot(item_matrix)\n",
    "\n",
    "            # Calculate itemT*Cu*Pu term\n",
    "            itemTCuPu = item_matrix.T.dot(CuI + item_eye).dot(preference_vector.T)\n",
    "\n",
    "            # Solve for given user\n",
    "            user_matrix[user] = spsolve(itemTitem + itemTCuIitem + lambda_eye, itemTCuPu)\n",
    "\n",
    "        # Solve items based on fixed users\n",
    "        for item in tqdm(range(num_items)):\n",
    "            # Select confidence matrix row for given item\n",
    "            confidence_row = confidence_matrix[:, item].T.toarray()\n",
    "\n",
    "            # Create binarized preference vector\n",
    "            preference_vector = confidence_row.copy()\n",
    "            preference_vector[preference_vector != 0] = 1\n",
    "\n",
    "            # Increment user index so every item-user is given minimal confidence\n",
    "            confidence_row += 1\n",
    "\n",
    "            # Calculate Ci - I term\n",
    "            CiI = sparse.diags(confidence_row, [0])\n",
    "\n",
    "            # Calculate userT*(Ci - I)*user term\n",
    "            userTCiIuser = user_matrix.T.dot(CiI).dot(user_matrix)\n",
    "\n",
    "            # Calculate userT*Ci*Pi term\n",
    "            userTCiPi = user_matrix.T.dot(CiI + user_eye).dot(preference_vector.T)\n",
    "\n",
    "            # Solve for given item\n",
    "            item_matrix[item] = spsolve(userTuser + userTCiIuser + lambda_eye, userTCiPi)\n",
    "\n",
    "    return user_matrix, item_matrix.T\n",
    "\n",
    "\n",
    "# def nonzeros(m, row):\n",
    "#     for index in range(m.indptr[row], m.indptr[row+1]):\n",
    "#         yield m.indices[index], m.data[index]\n",
    "# def calc_oposite_vectors_implicit(X, Y, A, conf_A, k, lam):\n",
    "#     factor_eye = lam * sp.eye(k)\n",
    "#     Y_eye = sp.eye(Y.shape[0])\n",
    "#     YT_Y = Y.T @ Y + factor_eye\n",
    "\n",
    "#     for row in tqdm(range(A.shape[0])):\n",
    "#         x = X[row].toarray().flatten()\n",
    "#         r = -YT_Y.dot(x)\n",
    "#         for i, conf in nonzeros(conf_A, row):\n",
    "#             print(Y.shape)\n",
    "#             print(i)\n",
    "#             r += (conf - (conf - 1) * Y[i].dot(x)) * Y[i]\n",
    "\n",
    "#         p = r.copy()\n",
    "#         rsold = r.dot(r)\n",
    "\n",
    "#         for _ in range(5):\n",
    "#             Ap = YT_Y.dot(p)\n",
    "#             for i, conf in nonzeros(conf_A, row):\n",
    "                \n",
    "#                 Ap += (conf - 1) * Y[i].dot(p) * Y[i]\n",
    "\n",
    "#             alpha = rsold / p.dot(Ap)\n",
    "#             x += alpha * p\n",
    "#             r -= alpha * Ap\n",
    "\n",
    "#             rsnew = r.dot(r)\n",
    "#             p = r + (rsnew / rsold) * p\n",
    "#             rsold = rsnew\n",
    "\n",
    "#         X[row] = x\n",
    "        \n",
    "        \n",
    "\n",
    "def calc_oposite_vectors_implicit(X, Y, A, conf_A, k, lam):\n",
    "    factor_eye = lam * sp.eye(k)\n",
    "    Y_eye = sp.eye(Y.shape[0])\n",
    "    YT_Y = Y.T @ Y + factor_eye\n",
    "\n",
    "    for row in tqdm(range(A.shape[0])):\n",
    "        conf_row = conf_A[row, :].toarray()\n",
    "        nonzeros = conf_row.copy()\n",
    "        nonzeros[nonzeros != 0] = 1\n",
    "        conf_I = sp.diags(conf_row + 1, [0])\n",
    "        factor_conf = Y.T.dot(conf_I).dot(Y)\n",
    "\n",
    "        C = Y.T.dot(conf_I + Y_eye).dot(nonzeros.T)\n",
    "        B = YT_Y + factor_conf + factor_eye\n",
    "        X[row, :] = sp.linalg.inv(B) @ C\n",
    "\n",
    "\n",
    "#     B = YT_Y + lam * sp.eye(k) +  Y.T @ conf_A @ Y\n",
    "#     C = A @ Y + conf_A @ Y\n",
    "#     return (sp.linalg.inv(B) @ C.T).T\n",
    "\n",
    "# def calc_oposite_vectors(Y, A, k, lam):\n",
    "#     B = Y.T @ Y + lam * sp.eye(k)\n",
    "#     C = A @ Y\n",
    "#     return (sp.linalg.inv(B) @ C.T).T\n",
    "\n",
    "def ials(ratings, k: int, lam: float = 1.0, alpha: int = 1000, debug: bool = True):\n",
    "    '''Implicit Alternating Least Squares algorithm\n",
    "\n",
    "    Args:\n",
    "        ratings: sparce matrix of ratings\n",
    "        k: size of embeddings\n",
    "        lam: regularization term\n",
    "\n",
    "    Returns:\n",
    "        two matrices: of user embeddings and of item embeddings\n",
    "    '''\n",
    "    X, Y = sp.random(ratings.shape[0], k), sp.random(ratings.shape[1], k)\n",
    "    X = X.tocsr()\n",
    "    Y = Y.tocsr()\n",
    "    ratings = ratings.tocsr()\n",
    "    ratings_T = ratings.T.tocsr()\n",
    "    ratings_conf = alpha * ratings\n",
    "    print(X.shape, ratings.shape, ratings_conf.shape, ratings.shape[0])\n",
    "    if debug:\n",
    "        frobenius_norms = [np.sum((ratings - X.dot(Y.T)).power(2))]\n",
    "    else:\n",
    "        frobenius_norms = None\n",
    "\n",
    "    for i in range(10):\n",
    "        calc_oposite_vectors_implicit(X, Y, ratings, ratings_conf, k, lam)\n",
    "        if debug:\n",
    "            frobenius_norms.append(np.sum((ratings - X.dot(Y.T)).power(2)))\n",
    "        calc_oposite_vectors_implicit(Y, X, ratings_T, ratings_conf.T, k, lam)\n",
    "        if debug:\n",
    "            frobenius_norms.append(np.sum((ratings - X.dot(Y.T)).power(2)))\n",
    "\n",
    "    return X, Y, frobenius_norms"
   ]
  }
 ],
 "metadata": {
  "colab": {
   "provenance": []
  },
  "finalized": {
   "timestamp": 1686173501421,
   "trusted": false
  },
  "kernelspec": {
   "display_name": "Python 3 (ipykernel)",
   "language": "python",
   "name": "python3"
  },
  "language_info": {
   "codemirror_mode": {
    "name": "ipython",
    "version": 3
   },
   "file_extension": ".py",
   "mimetype": "text/x-python",
   "name": "python",
   "nbconvert_exporter": "python",
   "pygments_lexer": "ipython3",
   "version": "3.10.14"
  },
  "toc": {
   "base_numbering": 1,
   "nav_menu": {},
   "number_sections": true,
   "sideBar": true,
   "skip_h1_title": false,
   "title_cell": "Table of Contents",
   "title_sidebar": "Contents",
   "toc_cell": false,
   "toc_position": {
    "height": "calc(100% - 180px)",
    "left": "10px",
    "top": "150px",
    "width": "302.398px"
   },
   "toc_section_display": true,
   "toc_window_display": true
  },
  "widgets": {
   "application/vnd.jupyter.widget-state+json": {
    "0237a9a9c6e949dbaaa8c590587e4b41": {
     "model_module": "@jupyter-widgets/controls",
     "model_module_version": "1.5.0",
     "model_name": "ProgressStyleModel",
     "state": {
      "_model_module": "@jupyter-widgets/controls",
      "_model_module_version": "1.5.0",
      "_model_name": "ProgressStyleModel",
      "_view_count": null,
      "_view_module": "@jupyter-widgets/base",
      "_view_module_version": "1.2.0",
      "_view_name": "StyleView",
      "bar_color": null,
      "description_width": ""
     }
    },
    "075da7e6e2384d3fb0f5ae9da5455f13": {
     "model_module": "@jupyter-widgets/controls",
     "model_module_version": "1.5.0",
     "model_name": "HTMLModel",
     "state": {
      "_dom_classes": [],
      "_model_module": "@jupyter-widgets/controls",
      "_model_module_version": "1.5.0",
      "_model_name": "HTMLModel",
      "_view_count": null,
      "_view_module": "@jupyter-widgets/controls",
      "_view_module_version": "1.5.0",
      "_view_name": "HTMLView",
      "description": "",
      "description_tooltip": null,
      "layout": "IPY_MODEL_5fdcb6e45d65474b8e7e022924896ea3",
      "placeholder": "​",
      "style": "IPY_MODEL_6115fef64537416ab9acd96cab801c5a",
      "value": " 75910/75910 [00:02&lt;00:00, 33648.01it/s]"
     }
    },
    "116fa9fbd06d4c4d8a5965cfbeeb30f2": {
     "model_module": "@jupyter-widgets/controls",
     "model_module_version": "1.5.0",
     "model_name": "DescriptionStyleModel",
     "state": {
      "_model_module": "@jupyter-widgets/controls",
      "_model_module_version": "1.5.0",
      "_model_name": "DescriptionStyleModel",
      "_view_count": null,
      "_view_module": "@jupyter-widgets/base",
      "_view_module_version": "1.2.0",
      "_view_name": "StyleView",
      "description_width": ""
     }
    },
    "224fc7e3404f4636b20f4aca881f4d4d": {
     "model_module": "@jupyter-widgets/controls",
     "model_module_version": "1.5.0",
     "model_name": "ProgressStyleModel",
     "state": {
      "_model_module": "@jupyter-widgets/controls",
      "_model_module_version": "1.5.0",
      "_model_name": "ProgressStyleModel",
      "_view_count": null,
      "_view_module": "@jupyter-widgets/base",
      "_view_module_version": "1.2.0",
      "_view_name": "StyleView",
      "bar_color": null,
      "description_width": ""
     }
    },
    "35b8e39902b94dd7adb297d5acf4366e": {
     "model_module": "@jupyter-widgets/controls",
     "model_module_version": "1.5.0",
     "model_name": "HBoxModel",
     "state": {
      "_dom_classes": [],
      "_model_module": "@jupyter-widgets/controls",
      "_model_module_version": "1.5.0",
      "_model_name": "HBoxModel",
      "_view_count": null,
      "_view_module": "@jupyter-widgets/controls",
      "_view_module_version": "1.5.0",
      "_view_name": "HBoxView",
      "box_style": "",
      "children": [
       "IPY_MODEL_884392fa14804b4bbe86c111e393320c",
       "IPY_MODEL_b376b4814dea47d69cddf01ab653353e",
       "IPY_MODEL_c67c6f7256684dbaa97a8b6e06639847"
      ],
      "layout": "IPY_MODEL_770430fa5be943b7a845aeef8561f9f1"
     }
    },
    "371c1207a0064094bb0b336880e41a92": {
     "model_module": "@jupyter-widgets/controls",
     "model_module_version": "1.5.0",
     "model_name": "DescriptionStyleModel",
     "state": {
      "_model_module": "@jupyter-widgets/controls",
      "_model_module_version": "1.5.0",
      "_model_name": "DescriptionStyleModel",
      "_view_count": null,
      "_view_module": "@jupyter-widgets/base",
      "_view_module_version": "1.2.0",
      "_view_name": "StyleView",
      "description_width": ""
     }
    },
    "466b523e91e440dd821f55451eeda43c": {
     "model_module": "@jupyter-widgets/controls",
     "model_module_version": "1.5.0",
     "model_name": "FloatProgressModel",
     "state": {
      "_dom_classes": [],
      "_model_module": "@jupyter-widgets/controls",
      "_model_module_version": "1.5.0",
      "_model_name": "FloatProgressModel",
      "_view_count": null,
      "_view_module": "@jupyter-widgets/controls",
      "_view_module_version": "1.5.0",
      "_view_name": "ProgressView",
      "bar_style": "success",
      "description": "",
      "description_tooltip": null,
      "layout": "IPY_MODEL_84f12c88902e4753a57e0bf9d94d2139",
      "max": 75910,
      "min": 0,
      "orientation": "horizontal",
      "style": "IPY_MODEL_0237a9a9c6e949dbaaa8c590587e4b41",
      "value": 75910
     }
    },
    "56307294617b4ac4bf5d6e847922294b": {
     "model_module": "@jupyter-widgets/base",
     "model_module_version": "1.2.0",
     "model_name": "LayoutModel",
     "state": {
      "_model_module": "@jupyter-widgets/base",
      "_model_module_version": "1.2.0",
      "_model_name": "LayoutModel",
      "_view_count": null,
      "_view_module": "@jupyter-widgets/base",
      "_view_module_version": "1.2.0",
      "_view_name": "LayoutView",
      "align_content": null,
      "align_items": null,
      "align_self": null,
      "border": null,
      "bottom": null,
      "display": null,
      "flex": null,
      "flex_flow": null,
      "grid_area": null,
      "grid_auto_columns": null,
      "grid_auto_flow": null,
      "grid_auto_rows": null,
      "grid_column": null,
      "grid_gap": null,
      "grid_row": null,
      "grid_template_areas": null,
      "grid_template_columns": null,
      "grid_template_rows": null,
      "height": null,
      "justify_content": null,
      "justify_items": null,
      "left": null,
      "margin": null,
      "max_height": null,
      "max_width": null,
      "min_height": null,
      "min_width": null,
      "object_fit": null,
      "object_position": null,
      "order": null,
      "overflow": null,
      "overflow_x": null,
      "overflow_y": null,
      "padding": null,
      "right": null,
      "top": null,
      "visibility": null,
      "width": null
     }
    },
    "5fdcb6e45d65474b8e7e022924896ea3": {
     "model_module": "@jupyter-widgets/base",
     "model_module_version": "1.2.0",
     "model_name": "LayoutModel",
     "state": {
      "_model_module": "@jupyter-widgets/base",
      "_model_module_version": "1.2.0",
      "_model_name": "LayoutModel",
      "_view_count": null,
      "_view_module": "@jupyter-widgets/base",
      "_view_module_version": "1.2.0",
      "_view_name": "LayoutView",
      "align_content": null,
      "align_items": null,
      "align_self": null,
      "border": null,
      "bottom": null,
      "display": null,
      "flex": null,
      "flex_flow": null,
      "grid_area": null,
      "grid_auto_columns": null,
      "grid_auto_flow": null,
      "grid_auto_rows": null,
      "grid_column": null,
      "grid_gap": null,
      "grid_row": null,
      "grid_template_areas": null,
      "grid_template_columns": null,
      "grid_template_rows": null,
      "height": null,
      "justify_content": null,
      "justify_items": null,
      "left": null,
      "margin": null,
      "max_height": null,
      "max_width": null,
      "min_height": null,
      "min_width": null,
      "object_fit": null,
      "object_position": null,
      "order": null,
      "overflow": null,
      "overflow_x": null,
      "overflow_y": null,
      "padding": null,
      "right": null,
      "top": null,
      "visibility": null,
      "width": null
     }
    },
    "6115fef64537416ab9acd96cab801c5a": {
     "model_module": "@jupyter-widgets/controls",
     "model_module_version": "1.5.0",
     "model_name": "DescriptionStyleModel",
     "state": {
      "_model_module": "@jupyter-widgets/controls",
      "_model_module_version": "1.5.0",
      "_model_name": "DescriptionStyleModel",
      "_view_count": null,
      "_view_module": "@jupyter-widgets/base",
      "_view_module_version": "1.2.0",
      "_view_name": "StyleView",
      "description_width": ""
     }
    },
    "770430fa5be943b7a845aeef8561f9f1": {
     "model_module": "@jupyter-widgets/base",
     "model_module_version": "1.2.0",
     "model_name": "LayoutModel",
     "state": {
      "_model_module": "@jupyter-widgets/base",
      "_model_module_version": "1.2.0",
      "_model_name": "LayoutModel",
      "_view_count": null,
      "_view_module": "@jupyter-widgets/base",
      "_view_module_version": "1.2.0",
      "_view_name": "LayoutView",
      "align_content": null,
      "align_items": null,
      "align_self": null,
      "border": null,
      "bottom": null,
      "display": null,
      "flex": null,
      "flex_flow": null,
      "grid_area": null,
      "grid_auto_columns": null,
      "grid_auto_flow": null,
      "grid_auto_rows": null,
      "grid_column": null,
      "grid_gap": null,
      "grid_row": null,
      "grid_template_areas": null,
      "grid_template_columns": null,
      "grid_template_rows": null,
      "height": null,
      "justify_content": null,
      "justify_items": null,
      "left": null,
      "margin": null,
      "max_height": null,
      "max_width": null,
      "min_height": null,
      "min_width": null,
      "object_fit": null,
      "object_position": null,
      "order": null,
      "overflow": null,
      "overflow_x": null,
      "overflow_y": null,
      "padding": null,
      "right": null,
      "top": null,
      "visibility": null,
      "width": null
     }
    },
    "7d71869db6124b889a34ce4cee4e2598": {
     "model_module": "@jupyter-widgets/base",
     "model_module_version": "1.2.0",
     "model_name": "LayoutModel",
     "state": {
      "_model_module": "@jupyter-widgets/base",
      "_model_module_version": "1.2.0",
      "_model_name": "LayoutModel",
      "_view_count": null,
      "_view_module": "@jupyter-widgets/base",
      "_view_module_version": "1.2.0",
      "_view_name": "LayoutView",
      "align_content": null,
      "align_items": null,
      "align_self": null,
      "border": null,
      "bottom": null,
      "display": null,
      "flex": null,
      "flex_flow": null,
      "grid_area": null,
      "grid_auto_columns": null,
      "grid_auto_flow": null,
      "grid_auto_rows": null,
      "grid_column": null,
      "grid_gap": null,
      "grid_row": null,
      "grid_template_areas": null,
      "grid_template_columns": null,
      "grid_template_rows": null,
      "height": null,
      "justify_content": null,
      "justify_items": null,
      "left": null,
      "margin": null,
      "max_height": null,
      "max_width": null,
      "min_height": null,
      "min_width": null,
      "object_fit": null,
      "object_position": null,
      "order": null,
      "overflow": null,
      "overflow_x": null,
      "overflow_y": null,
      "padding": null,
      "right": null,
      "top": null,
      "visibility": null,
      "width": null
     }
    },
    "84f12c88902e4753a57e0bf9d94d2139": {
     "model_module": "@jupyter-widgets/base",
     "model_module_version": "1.2.0",
     "model_name": "LayoutModel",
     "state": {
      "_model_module": "@jupyter-widgets/base",
      "_model_module_version": "1.2.0",
      "_model_name": "LayoutModel",
      "_view_count": null,
      "_view_module": "@jupyter-widgets/base",
      "_view_module_version": "1.2.0",
      "_view_name": "LayoutView",
      "align_content": null,
      "align_items": null,
      "align_self": null,
      "border": null,
      "bottom": null,
      "display": null,
      "flex": null,
      "flex_flow": null,
      "grid_area": null,
      "grid_auto_columns": null,
      "grid_auto_flow": null,
      "grid_auto_rows": null,
      "grid_column": null,
      "grid_gap": null,
      "grid_row": null,
      "grid_template_areas": null,
      "grid_template_columns": null,
      "grid_template_rows": null,
      "height": null,
      "justify_content": null,
      "justify_items": null,
      "left": null,
      "margin": null,
      "max_height": null,
      "max_width": null,
      "min_height": null,
      "min_width": null,
      "object_fit": null,
      "object_position": null,
      "order": null,
      "overflow": null,
      "overflow_x": null,
      "overflow_y": null,
      "padding": null,
      "right": null,
      "top": null,
      "visibility": null,
      "width": null
     }
    },
    "884392fa14804b4bbe86c111e393320c": {
     "model_module": "@jupyter-widgets/controls",
     "model_module_version": "1.5.0",
     "model_name": "HTMLModel",
     "state": {
      "_dom_classes": [],
      "_model_module": "@jupyter-widgets/controls",
      "_model_module_version": "1.5.0",
      "_model_name": "HTMLModel",
      "_view_count": null,
      "_view_module": "@jupyter-widgets/controls",
      "_view_module_version": "1.5.0",
      "_view_name": "HTMLView",
      "description": "",
      "description_tooltip": null,
      "layout": "IPY_MODEL_c54aeb2471674220ac02259a369de3eb",
      "placeholder": "​",
      "style": "IPY_MODEL_371c1207a0064094bb0b336880e41a92",
      "value": "100%"
     }
    },
    "8a017cf863a5458e8e21e329b611e113": {
     "model_module": "@jupyter-widgets/base",
     "model_module_version": "1.2.0",
     "model_name": "LayoutModel",
     "state": {
      "_model_module": "@jupyter-widgets/base",
      "_model_module_version": "1.2.0",
      "_model_name": "LayoutModel",
      "_view_count": null,
      "_view_module": "@jupyter-widgets/base",
      "_view_module_version": "1.2.0",
      "_view_name": "LayoutView",
      "align_content": null,
      "align_items": null,
      "align_self": null,
      "border": null,
      "bottom": null,
      "display": null,
      "flex": null,
      "flex_flow": null,
      "grid_area": null,
      "grid_auto_columns": null,
      "grid_auto_flow": null,
      "grid_auto_rows": null,
      "grid_column": null,
      "grid_gap": null,
      "grid_row": null,
      "grid_template_areas": null,
      "grid_template_columns": null,
      "grid_template_rows": null,
      "height": null,
      "justify_content": null,
      "justify_items": null,
      "left": null,
      "margin": null,
      "max_height": null,
      "max_width": null,
      "min_height": null,
      "min_width": null,
      "object_fit": null,
      "object_position": null,
      "order": null,
      "overflow": null,
      "overflow_x": null,
      "overflow_y": null,
      "padding": null,
      "right": null,
      "top": null,
      "visibility": null,
      "width": null
     }
    },
    "a9d71e2a87544aa787e4e82359a8d44d": {
     "model_module": "@jupyter-widgets/controls",
     "model_module_version": "1.5.0",
     "model_name": "HBoxModel",
     "state": {
      "_dom_classes": [],
      "_model_module": "@jupyter-widgets/controls",
      "_model_module_version": "1.5.0",
      "_model_name": "HBoxModel",
      "_view_count": null,
      "_view_module": "@jupyter-widgets/controls",
      "_view_module_version": "1.5.0",
      "_view_name": "HBoxView",
      "box_style": "",
      "children": [
       "IPY_MODEL_e69a2b48b14a4b208551b4c77eee4c30",
       "IPY_MODEL_466b523e91e440dd821f55451eeda43c",
       "IPY_MODEL_075da7e6e2384d3fb0f5ae9da5455f13"
      ],
      "layout": "IPY_MODEL_7d71869db6124b889a34ce4cee4e2598"
     }
    },
    "abd59713a8c44e9b8eddaf9e3e2d2d77": {
     "model_module": "@jupyter-widgets/controls",
     "model_module_version": "1.5.0",
     "model_name": "DescriptionStyleModel",
     "state": {
      "_model_module": "@jupyter-widgets/controls",
      "_model_module_version": "1.5.0",
      "_model_name": "DescriptionStyleModel",
      "_view_count": null,
      "_view_module": "@jupyter-widgets/base",
      "_view_module_version": "1.2.0",
      "_view_name": "StyleView",
      "description_width": ""
     }
    },
    "b376b4814dea47d69cddf01ab653353e": {
     "model_module": "@jupyter-widgets/controls",
     "model_module_version": "1.5.0",
     "model_name": "FloatProgressModel",
     "state": {
      "_dom_classes": [],
      "_model_module": "@jupyter-widgets/controls",
      "_model_module_version": "1.5.0",
      "_model_name": "FloatProgressModel",
      "_view_count": null,
      "_view_module": "@jupyter-widgets/controls",
      "_view_module_version": "1.5.0",
      "_view_name": "ProgressView",
      "bar_style": "success",
      "description": "",
      "description_tooltip": null,
      "layout": "IPY_MODEL_56307294617b4ac4bf5d6e847922294b",
      "max": 75910,
      "min": 0,
      "orientation": "horizontal",
      "style": "IPY_MODEL_224fc7e3404f4636b20f4aca881f4d4d",
      "value": 75910
     }
    },
    "c54aeb2471674220ac02259a369de3eb": {
     "model_module": "@jupyter-widgets/base",
     "model_module_version": "1.2.0",
     "model_name": "LayoutModel",
     "state": {
      "_model_module": "@jupyter-widgets/base",
      "_model_module_version": "1.2.0",
      "_model_name": "LayoutModel",
      "_view_count": null,
      "_view_module": "@jupyter-widgets/base",
      "_view_module_version": "1.2.0",
      "_view_name": "LayoutView",
      "align_content": null,
      "align_items": null,
      "align_self": null,
      "border": null,
      "bottom": null,
      "display": null,
      "flex": null,
      "flex_flow": null,
      "grid_area": null,
      "grid_auto_columns": null,
      "grid_auto_flow": null,
      "grid_auto_rows": null,
      "grid_column": null,
      "grid_gap": null,
      "grid_row": null,
      "grid_template_areas": null,
      "grid_template_columns": null,
      "grid_template_rows": null,
      "height": null,
      "justify_content": null,
      "justify_items": null,
      "left": null,
      "margin": null,
      "max_height": null,
      "max_width": null,
      "min_height": null,
      "min_width": null,
      "object_fit": null,
      "object_position": null,
      "order": null,
      "overflow": null,
      "overflow_x": null,
      "overflow_y": null,
      "padding": null,
      "right": null,
      "top": null,
      "visibility": null,
      "width": null
     }
    },
    "c67c6f7256684dbaa97a8b6e06639847": {
     "model_module": "@jupyter-widgets/controls",
     "model_module_version": "1.5.0",
     "model_name": "HTMLModel",
     "state": {
      "_dom_classes": [],
      "_model_module": "@jupyter-widgets/controls",
      "_model_module_version": "1.5.0",
      "_model_name": "HTMLModel",
      "_view_count": null,
      "_view_module": "@jupyter-widgets/controls",
      "_view_module_version": "1.5.0",
      "_view_name": "HTMLView",
      "description": "",
      "description_tooltip": null,
      "layout": "IPY_MODEL_d33bbffd5d65490f8d64441c25205717",
      "placeholder": "​",
      "style": "IPY_MODEL_abd59713a8c44e9b8eddaf9e3e2d2d77",
      "value": " 75910/75910 [00:01&lt;00:00, 50746.56it/s]"
     }
    },
    "d33bbffd5d65490f8d64441c25205717": {
     "model_module": "@jupyter-widgets/base",
     "model_module_version": "1.2.0",
     "model_name": "LayoutModel",
     "state": {
      "_model_module": "@jupyter-widgets/base",
      "_model_module_version": "1.2.0",
      "_model_name": "LayoutModel",
      "_view_count": null,
      "_view_module": "@jupyter-widgets/base",
      "_view_module_version": "1.2.0",
      "_view_name": "LayoutView",
      "align_content": null,
      "align_items": null,
      "align_self": null,
      "border": null,
      "bottom": null,
      "display": null,
      "flex": null,
      "flex_flow": null,
      "grid_area": null,
      "grid_auto_columns": null,
      "grid_auto_flow": null,
      "grid_auto_rows": null,
      "grid_column": null,
      "grid_gap": null,
      "grid_row": null,
      "grid_template_areas": null,
      "grid_template_columns": null,
      "grid_template_rows": null,
      "height": null,
      "justify_content": null,
      "justify_items": null,
      "left": null,
      "margin": null,
      "max_height": null,
      "max_width": null,
      "min_height": null,
      "min_width": null,
      "object_fit": null,
      "object_position": null,
      "order": null,
      "overflow": null,
      "overflow_x": null,
      "overflow_y": null,
      "padding": null,
      "right": null,
      "top": null,
      "visibility": null,
      "width": null
     }
    },
    "e69a2b48b14a4b208551b4c77eee4c30": {
     "model_module": "@jupyter-widgets/controls",
     "model_module_version": "1.5.0",
     "model_name": "HTMLModel",
     "state": {
      "_dom_classes": [],
      "_model_module": "@jupyter-widgets/controls",
      "_model_module_version": "1.5.0",
      "_model_name": "HTMLModel",
      "_view_count": null,
      "_view_module": "@jupyter-widgets/controls",
      "_view_module_version": "1.5.0",
      "_view_name": "HTMLView",
      "description": "",
      "description_tooltip": null,
      "layout": "IPY_MODEL_8a017cf863a5458e8e21e329b611e113",
      "placeholder": "​",
      "style": "IPY_MODEL_116fa9fbd06d4c4d8a5965cfbeeb30f2",
      "value": "100%"
     }
    }
   }
  }
 },
 "nbformat": 4,
 "nbformat_minor": 5
}
