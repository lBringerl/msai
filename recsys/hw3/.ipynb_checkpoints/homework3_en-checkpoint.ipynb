{
 "cells": [
  {
   "cell_type": "code",
   "execution_count": null,
   "id": "a0d81dac-c57f-480c-8b38-298f66778830",
   "metadata": {
    "id": "a0d81dac-c57f-480c-8b38-298f66778830"
   },
   "outputs": [],
   "source": [
    "!wget -O zen_dataset.tar.gz https://www.dropbox.com/s/5ugsinj434yzmu6/zen_dataset.tar.gz?dl=0\n",
    "!tar -xzvf zen_dataset.tar.gz"
   ]
  },
  {
   "cell_type": "code",
   "execution_count": null,
   "id": "751b5ff9-2c28-4676-92d1-48b5752f6879",
   "metadata": {
    "id": "751b5ff9-2c28-4676-92d1-48b5752f6879"
   },
   "outputs": [],
   "source": [
    "!pip install catboost"
   ]
  },
  {
   "cell_type": "markdown",
   "id": "70dfad64-64df-47b6-be39-f4b8ca3782ae",
   "metadata": {
    "id": "70dfad64-64df-47b6-be39-f4b8ca3782ae"
   },
   "source": [
    "# Ranking model\n",
    "\n",
    "Classical multistage recommendations pipeline looks like following:\n",
    "\n",
    "![](\n",
    "https://raw.githubusercontent.com/girafe-ai/recsys/3f374f49cede21d25c777aa3a274b9cbadc29d19/homeworks/recsys-pipeline.png)\n",
    "\n",
    "1. Candidate selection: on this stage we use relative simple models (embeddings kNN, collaborative filtering result or SLIM)\n",
    "1. Ranking model: candidates collected on previous stage are evaluated with more complex model (usually boosting nowadays).\n",
    "1. Reranking: applying business logic, heuristics and ad-hocs.\n",
    "\n",
    "We discussed this pipeline on the first lecture."
   ]
  },
  {
   "cell_type": "markdown",
   "id": "2d3ea411-749b-4830-937d-a9390c9172a6",
   "metadata": {
    "id": "2d3ea411-749b-4830-937d-a9390c9172a6"
   },
   "source": [
    "In this task you are to build dataset and train ranking model using Dzen dataset.\n",
    "\n",
    "You need to use gradient boosting model e.g. Catboost (however any other goes well). As features you will need:\n",
    "* Dot product, cosine distance between user and item embeddings. Models to use as embeddings source are:  *explicit* and *implicit ALS*, content models\n",
    "* Item and user statistics (counters) such as CTR, view count, etc.\n"
   ]
  },
  {
   "cell_type": "code",
   "execution_count": null,
   "id": "fbd10597-5486-414f-bae4-259644d84cca",
   "metadata": {
    "id": "fbd10597-5486-414f-bae4-259644d84cca"
   },
   "outputs": [],
   "source": [
    "import numpy as np\n",
    "import pandas as pd\n",
    "\n",
    "import tqdm\n",
    "import json\n",
    "import itertools\n",
    "import collections\n",
    "\n",
    "import matplotlib.pyplot as plt\n",
    "import seaborn as sns\n",
    "\n",
    "\n",
    "from sklearn.preprocessing import LabelEncoder\n",
    "from sklearn.metrics import roc_auc_score\n",
    "\n",
    "sns.set()"
   ]
  },
  {
   "cell_type": "code",
   "execution_count": null,
   "id": "eba5cc11-5e80-4b8a-bd95-aa50d7cf100e",
   "metadata": {
    "id": "eba5cc11-5e80-4b8a-bd95-aa50d7cf100e"
   },
   "outputs": [],
   "source": [
    "item_counts = pd.read_csv('zen_dataset/item_counts.csv', index_col=0)\n",
    "item_meta = pd.read_csv('zen_dataset/item_meta.gz', compression='gzip', index_col=0)\n",
    "user_ratings = pd.read_csv('zen_dataset/user_ratings.gz', compression='gzip', index_col=0)"
   ]
  },
  {
   "cell_type": "code",
   "execution_count": null,
   "id": "b9970d7e-c744-483a-a98a-21feef21d259",
   "metadata": {
    "id": "b9970d7e-c744-483a-a98a-21feef21d259"
   },
   "outputs": [],
   "source": [
    "item_counts['itemId'] = item_counts['itemId'].apply(str)\n",
    "item_meta['itemId'] = item_meta['itemId'].apply(str)"
   ]
  },
  {
   "cell_type": "code",
   "execution_count": null,
   "id": "ece7e324-e1be-45c2-af34-f236b8fa696d",
   "metadata": {
    "id": "ece7e324-e1be-45c2-af34-f236b8fa696d"
   },
   "outputs": [],
   "source": [
    "def parse_ratings_history(string):\n",
    "    return json.loads(string.replace(\"'\", '\"'))"
   ]
  },
  {
   "cell_type": "code",
   "execution_count": null,
   "id": "b33b3089-405d-4721-991f-e990c147492e",
   "metadata": {
    "id": "b33b3089-405d-4721-991f-e990c147492e"
   },
   "outputs": [],
   "source": [
    "user_encoder = LabelEncoder().fit(user_ratings['userId'])\n",
    "item_encoder = LabelEncoder().fit(item_counts['itemId'])\n",
    "\n",
    "all_items = item_counts['itemId']\n",
    "indices = item_encoder.transform(all_items)\n",
    "item_to_id = dict(zip(all_items, indices))"
   ]
  },
  {
   "cell_type": "markdown",
   "id": "546a6b62-a75a-4ae3-8c9c-91ec2986e94f",
   "metadata": {
    "id": "546a6b62-a75a-4ae3-8c9c-91ec2986e94f"
   },
   "source": [
    "## ALS (10 points)"
   ]
  },
  {
   "cell_type": "markdown",
   "id": "c09226eb-83e2-4b82-8796-81c297c92760",
   "metadata": {
    "id": "c09226eb-83e2-4b82-8796-81c297c92760"
   },
   "source": [
    "Train explicit и implicit ALS.\n",
    "\n",
    "You may use your implementation from previous HW as well as library implementation such as _implicit_"
   ]
  },
  {
   "cell_type": "code",
   "execution_count": null,
   "id": "ad38cb9d-974f-471c-96ee-e077b3e1d6a3",
   "metadata": {
    "id": "ad38cb9d-974f-471c-96ee-e077b3e1d6a3"
   },
   "outputs": [],
   "source": [
    "DIMENSION = ... # choose appropriately"
   ]
  },
  {
   "cell_type": "code",
   "execution_count": null,
   "id": "e8d36afc-330c-458d-bba4-3d0be4a511d7",
   "metadata": {
    "id": "e8d36afc-330c-458d-bba4-3d0be4a511d7"
   },
   "outputs": [],
   "source": [
    "def train_eals(data, dimension=DIMENSION, steps=10):\n",
    "    # your preffered training method\n",
    "\n",
    "    return user_embeddings, item_embeddings\n",
    "\n",
    "\n",
    "def train_ials(data, dimension=DIMENSION, steps=10, alpha=10):\n",
    "    # your preffered training method\n",
    "\n",
    "    return user_embeddings, item_embeddings"
   ]
  },
  {
   "cell_type": "code",
   "execution_count": null,
   "id": "9c747a99-dee3-480e-926c-c79ff0896523",
   "metadata": {
    "id": "9c747a99-dee3-480e-926c-c79ff0896523"
   },
   "outputs": [],
   "source": [
    "eals_user_embeddings, eals_item_embeddings = ..."
   ]
  },
  {
   "cell_type": "code",
   "execution_count": null,
   "id": "c13912a1-1265-49e2-8fe8-57fdc64ab3da",
   "metadata": {
    "id": "c13912a1-1265-49e2-8fe8-57fdc64ab3da"
   },
   "outputs": [],
   "source": [
    "ials_user_embeddings, ials_item_embeddings = ..."
   ]
  },
  {
   "cell_type": "markdown",
   "id": "66cc043b-45e2-4be9-a0e5-cdf14dac1bda",
   "metadata": {
    "id": "66cc043b-45e2-4be9-a0e5-cdf14dac1bda"
   },
   "source": [
    "## Content model (5 points)\n",
    "\n",
    "Choose content model you like and apply it to all the items (remember to use all available information).\n",
    "\n",
    "Some sane choices are: RuBERT or any CLIP model. You may found them on [Hugging face](https://huggingface.co/models)\n",
    "\n",
    "Which dimensionality to choose for content model? Why?"
   ]
  },
  {
   "cell_type": "code",
   "execution_count": null,
   "id": "966a45ef-0b95-4abd-8469-7d616958a198",
   "metadata": {
    "id": "966a45ef-0b95-4abd-8469-7d616958a198"
   },
   "outputs": [],
   "source": [
    "content_item_embeddings = ..."
   ]
  },
  {
   "cell_type": "markdown",
   "id": "HtNdovBlZBb2",
   "metadata": {
    "id": "HtNdovBlZBb2"
   },
   "source": [
    "## ALS step from content model (5 points)\n",
    "\n",
    "To use content based information (important for cold items and users) in user-item ranking you need to build user embeddings. One simple way is to perform ALS step with item embeddings fixed to compute user embeddings.\n",
    "\n",
    "Then you will use these embeddings to compute user-item features for final ranking."
   ]
  },
  {
   "cell_type": "code",
   "execution_count": null,
   "id": "6I_OtEagZBJp",
   "metadata": {
    "id": "6I_OtEagZBJp"
   },
   "outputs": [],
   "source": [
    "content_user_embeddings = ..."
   ]
  },
  {
   "cell_type": "markdown",
   "id": "cb259682-2ffe-4abb-99c5-c453bf1ce3c9",
   "metadata": {
    "id": "cb259682-2ffe-4abb-99c5-c453bf1ce3c9"
   },
   "source": [
    "## Ranking (10 points)\n",
    "\n",
    "\n",
    "Build embedding based user-item features for ranking model."
   ]
  },
  {
   "cell_type": "code",
   "execution_count": null,
   "id": "fa7bb375-65da-4634-89f2-2c53affda9b4",
   "metadata": {
    "id": "fa7bb375-65da-4634-89f2-2c53affda9b4"
   },
   "outputs": [],
   "source": [
    "class EmbeddingFeatureGetter:\n",
    "    def __init__(self, user_embeddings, item_embeddings):\n",
    "        self.user_embeddings = user_embeddings\n",
    "        self.item_embeddings = item_embeddings\n",
    "\n",
    "    def get_features(self, user_id, item_ids):\n",
    "        \"\"\"\n",
    "        * user_id -- user index to compute features\n",
    "        * item_ids -- list of item indexes\n",
    "        \"\"\"\n",
    "        ...\n",
    "\n",
    "        return dot, cos"
   ]
  },
  {
   "cell_type": "code",
   "execution_count": null,
   "id": "86702698-61b0-4c94-8c30-555aaff103b7",
   "metadata": {
    "id": "86702698-61b0-4c94-8c30-555aaff103b7"
   },
   "outputs": [],
   "source": [
    "eals_features_getter = EmbeddingFeatureGetter(eals_user_embeddings, eals_item_embeddings)\n",
    "ials_features_getter = EmbeddingFeatureGetter(ials_user_embeddings, ials_item_embeddings)\n",
    "content_features_getter = EmbeddingFeatureGetter(content_user_embeddings, content_item_embeddings)"
   ]
  },
  {
   "cell_type": "markdown",
   "id": "b316b934-eefe-4db3-adc6-05480af570f7",
   "metadata": {
    "id": "b316b934-eefe-4db3-adc6-05480af570f7"
   },
   "source": [
    "Build item and user features:"
   ]
  },
  {
   "cell_type": "code",
   "execution_count": null,
   "id": "c2b99057-e489-4116-bcbb-2430c22ef848",
   "metadata": {
    "id": "c2b99057-e489-4116-bcbb-2430c22ef848"
   },
   "outputs": [],
   "source": [
    "item_features = [...]"
   ]
  },
  {
   "cell_type": "code",
   "execution_count": null,
   "id": "60c03ed5-848a-430d-b7be-bdfcdfa31183",
   "metadata": {
    "id": "60c03ed5-848a-430d-b7be-bdfcdfa31183"
   },
   "outputs": [],
   "source": [
    "user_features = [...]"
   ]
  },
  {
   "cell_type": "markdown",
   "id": "5b2395c5-ceaa-430e-9dcf-0124f2633cac",
   "metadata": {
    "id": "5b2395c5-ceaa-430e-9dcf-0124f2633cac"
   },
   "source": [
    "Then build dataset for boosting model.\n",
    "\n",
    "In case of Catboost it is called `Pool` and can be built [according to documentation](https://catboost.ai/en/docs/concepts/python-reference_catboost).\n",
    "\n",
    "Once again, you may use any library - there is almost no difference nowadays.\n",
    "\n",
    "Don't forget to use statistical features!"
   ]
  },
  {
   "cell_type": "code",
   "execution_count": null,
   "id": "0b9c24e6-5e09-4ffa-87d9-57f3fbf3ae7e",
   "metadata": {
    "id": "0b9c24e6-5e09-4ffa-87d9-57f3fbf3ae7e"
   },
   "outputs": [],
   "source": [
    "import catboost"
   ]
  },
  {
   "cell_type": "code",
   "execution_count": null,
   "id": "bb86b23e-a71c-4a1d-b7c3-4e8529e56b96",
   "metadata": {
    "id": "bb86b23e-a71c-4a1d-b7c3-4e8529e56b96"
   },
   "outputs": [],
   "source": [
    "train_features = ...\n",
    "train_labels = [...]\n",
    "train_group_ids = [...]"
   ]
  },
  {
   "cell_type": "code",
   "execution_count": null,
   "id": "574235a6-3c8c-43ec-b76b-a10be3a620d9",
   "metadata": {
    "id": "574235a6-3c8c-43ec-b76b-a10be3a620d9"
   },
   "outputs": [],
   "source": [
    "train_pool = catboost.Pool(train_features, train_labels, group_id=train_group_ids)"
   ]
  },
  {
   "cell_type": "code",
   "execution_count": null,
   "id": "f4714b83-86ae-4461-be58-eb4cd23c48b9",
   "metadata": {
    "id": "f4714b83-86ae-4461-be58-eb4cd23c48b9"
   },
   "outputs": [],
   "source": [
    "test_features = ...\n",
    "test_labels = [...]\n",
    "test_group_ids = [...]"
   ]
  },
  {
   "cell_type": "code",
   "execution_count": null,
   "id": "a450cf5a-0c83-4b99-890d-3236533835e1",
   "metadata": {
    "id": "a450cf5a-0c83-4b99-890d-3236533835e1"
   },
   "outputs": [],
   "source": [
    "test_pool = catboost.Pool(test_features, test_labels, group_id=test_group_ids)"
   ]
  },
  {
   "cell_type": "markdown",
   "id": "7def3be4-264f-4ee1-8d39-d796f4f1895b",
   "metadata": {
    "id": "7def3be4-264f-4ee1-8d39-d796f4f1895b"
   },
   "source": [
    "Train the model. For the best result you may need to read about [loss functions](https://catboost.ai/en/docs/references/training-parameters/common#loss_function) and their parameters.\n",
    "\n",
    "Try two cases:\n",
    "* binary classification\n",
    "* ranking loss\n",
    "\n",
    "In case of ranking pay attention to amount of pairs sampled as it can get training very long.\n"
   ]
  },
  {
   "cell_type": "code",
   "execution_count": null,
   "id": "3e54ff0e-feac-453f-9ae6-6926b26c3557",
   "metadata": {
    "id": "3e54ff0e-feac-453f-9ae6-6926b26c3557"
   },
   "outputs": [],
   "source": [
    "cb = catboost.CatBoost({...})"
   ]
  },
  {
   "cell_type": "code",
   "execution_count": null,
   "id": "01a45a52-4926-4ca1-8c32-fedf2bc0ba26",
   "metadata": {
    "id": "01a45a52-4926-4ca1-8c32-fedf2bc0ba26"
   },
   "outputs": [],
   "source": [
    "cb.fit(train_pool, eval_set=test_pool)"
   ]
  },
  {
   "cell_type": "markdown",
   "id": "e7135f1a-5323-4080-9de1-33e3c546d2ba",
   "metadata": {
    "id": "e7135f1a-5323-4080-9de1-33e3c546d2ba"
   },
   "source": [
    "Choose at least three metrics relevant for this setup and measure them for both loss functions:"
   ]
  },
  {
   "cell_type": "code",
   "execution_count": null,
   "id": "0b28ba59-fb13-4cfc-9c74-0263d11b338e",
   "metadata": {
    "id": "0b28ba59-fb13-4cfc-9c74-0263d11b338e"
   },
   "outputs": [],
   "source": [
    "per_user_predictions = [...]  # user -> predictions"
   ]
  },
  {
   "cell_type": "code",
   "execution_count": null,
   "id": "22147cea-c797-4976-beab-1e73f05f34d8",
   "metadata": {
    "id": "22147cea-c797-4976-beab-1e73f05f34d8"
   },
   "outputs": [],
   "source": [
    "# your code here"
   ]
  },
  {
   "cell_type": "markdown",
   "id": "b1f6abfa-9bf1-43f5-a80c-512ed5895c69",
   "metadata": {
    "id": "b1f6abfa-9bf1-43f5-a80c-512ed5895c69"
   },
   "source": [
    "## Analysis and conclusion (10 points)\n",
    "\n",
    "Analyse feature importance using [shap values](https://github.com/shap/shap). Make some visualizations.\n",
    "\n",
    "Make a conclusions on which loss works better in this case and how is it corellated with features and results (concrete rankings)."
   ]
  },
  {
   "cell_type": "code",
   "execution_count": null,
   "id": "BayLKbl4NEgl",
   "metadata": {
    "id": "BayLKbl4NEgl"
   },
   "outputs": [],
   "source": [
    "# your code here"
   ]
  },
  {
   "cell_type": "markdown",
   "id": "DGKCPKZ8NG0Q",
   "metadata": {
    "id": "DGKCPKZ8NG0Q"
   },
   "source": [
    "**Your conclusion here**"
   ]
  }
 ],
 "metadata": {
  "colab": {
   "provenance": [],
   "toc_visible": true
  },
  "kernelspec": {
   "display_name": "Python 3 (ipykernel)",
   "language": "python",
   "name": "python3"
  },
  "language_info": {
   "codemirror_mode": {
    "name": "ipython",
    "version": 3
   },
   "file_extension": ".py",
   "mimetype": "text/x-python",
   "name": "python",
   "nbconvert_exporter": "python",
   "pygments_lexer": "ipython3",
   "version": "3.10.14"
  }
 },
 "nbformat": 4,
 "nbformat_minor": 5
}
