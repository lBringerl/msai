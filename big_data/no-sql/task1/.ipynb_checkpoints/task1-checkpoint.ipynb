{
 "cells": [
  {
   "cell_type": "code",
   "execution_count": 11,
   "id": "24ecfae9-aaa8-4be3-930e-0edef09c14e0",
   "metadata": {},
   "outputs": [],
   "source": [
    "import datetime\n",
    "import sys\n",
    "\n",
    "from pyspark.sql import functions as f\n",
    "from pyspark.sql import SparkSession\n",
    "from pyspark.sql import Window\n",
    "from pyspark.sql.types import IntegerType, StringType, FloatType, StructType, StructField"
   ]
  },
  {
   "cell_type": "code",
   "execution_count": 2,
   "id": "302e734a-24f7-4d79-8628-b830ebc3d3c6",
   "metadata": {
    "scrolled": true
   },
   "outputs": [],
   "source": [
    "spark = (SparkSession.builder\n",
    "         .appName('ikhlebushkin_nosql_task1')\n",
    "         .master('yarn')\n",
    "         .config('spark.sql.catalog.cassandra', 'com.datastax.spark.connector.datasource.CassandraCatalog')\n",
    "         .getOrCreate())"
   ]
  },
  {
   "cell_type": "code",
   "execution_count": 3,
   "id": "e1ae7c45-439b-424e-a536-bba21fe68c24",
   "metadata": {
    "scrolled": true
   },
   "outputs": [
    {
     "name": "stderr",
     "output_type": "stream",
     "text": [
      "                                                                                \r"
     ]
    }
   ],
   "source": [
    "pubg_kills = spark.read.format('csv').option('header', 'true').load('/data/pubg')\n",
    "pubg_kills = pubg_kills.fillna(0)"
   ]
  },
  {
   "cell_type": "code",
   "execution_count": 4,
   "id": "234688ab-26cf-4398-8ea6-0fe31ba2175c",
   "metadata": {},
   "outputs": [],
   "source": [
    "x_diff = pubg_kills.killer_position_x - pubg_kills.victim_position_x\n",
    "y_diff = pubg_kills.killer_position_y - pubg_kills.victim_position_y\n",
    "pubg_kills = pubg_kills.withColumn('distance', f.sqrt(f.pow(x_diff, 2) + f.pow(y_diff, 2)))"
   ]
  },
  {
   "cell_type": "code",
   "execution_count": 5,
   "id": "3a137c46-6435-443d-81f8-febfa61e1a4e",
   "metadata": {},
   "outputs": [],
   "source": [
    "pubg_kills = pubg_kills.withColumn('placement_diff', pubg_kills.victim_placement - pubg_kills.killer_placement)"
   ]
  },
  {
   "cell_type": "code",
   "execution_count": 6,
   "id": "7082cd35-f056-4094-9316-02d2ce7ece1e",
   "metadata": {},
   "outputs": [
    {
     "name": "stderr",
     "output_type": "stream",
     "text": [
      "[Stage 1:>                                                          (0 + 1) / 1]\r"
     ]
    },
    {
     "name": "stdout",
     "output_type": "stream",
     "text": [
      "+------------+----------------+----------------+-----------------+-----------------+-------+--------------------+----+---------------+----------------+-----------------+-----------------+------------------+--------------+\n",
      "|   killed_by|     killer_name|killer_placement|killer_position_x|killer_position_y|    map|            match_id|time|    victim_name|victim_placement|victim_position_x|victim_position_y|          distance|placement_diff|\n",
      "+------------+----------------+----------------+-----------------+-----------------+-------+--------------------+----+---------------+----------------+-----------------+-----------------+------------------+--------------+\n",
      "|     Grenade| KrazyPortuguese|             5.0|         657725.1|         146275.2|MIRAMAR|2U4GBNA0YmnLSqvEy...| 823|KrazyPortuguese|             5.0|         657725.1|         146275.2|               0.0|           0.0|\n",
      "|      SCAR-L|nide2Bxiaojiejie|            31.0|         93091.37|         722236.4|MIRAMAR|2U4GBNA0YmnLSqvEy...| 194|    X3evolution|            33.0|         92238.68|         723375.1|1422.5744009013722|           2.0|\n",
      "|        S686|        Ascholes|            43.0|         366921.4|         421623.9|MIRAMAR|2U4GBNA0YmnLSqvEy...| 103|        CtrlZee|            46.0|         367304.5|         421216.1| 559.5234132724207|           3.0|\n",
      "|Down and Out|      Weirdo7777|             9.0|         472014.2|         313274.8|MIRAMAR|2U4GBNA0YmnLSqvEy...|1018|      BlackDpre|            13.0|         476645.9|         316758.4| 5795.525329942088|           4.0|\n",
      "|        M416|       Solayuki1|             9.0|         473357.8|         318340.5|MIRAMAR|2U4GBNA0YmnLSqvEy...|1018|          Vjolt|            13.0|         473588.5|         318418.8| 243.6254912770902|           4.0|\n",
      "|       Punch|   xuezhiqian717|            26.0|         721944.4|         359575.3|MIRAMAR|2U4GBNA0YmnLSqvEy...| 123| PurplePenguin9|            47.0|              0.0|              0.0| 806534.6322765378|          21.0|\n",
      "|         AKM|       pdfjkkvjk|            12.0|         376333.8|         317858.9|MIRAMAR|2U4GBNA0YmnLSqvEy...| 886|     JoeyJoeman|            15.0|         372808.3|         297124.2|21032.283146154165|           3.0|\n",
      "|        S686|       xiaogao13|            27.0|         373125.3|         433540.6|MIRAMAR|2U4GBNA0YmnLSqvEy...| 137|         BNOISE|            38.0|         373125.8|         433608.8| 68.20183281995864|          11.0|\n",
      "|        S686|       Jingchita|            40.0|         370990.6|         424074.5|MIRAMAR|2U4GBNA0YmnLSqvEy...|  89|    OmGiTzPauly|            47.0|         370761.1|         423662.1|471.95763581069355|           7.0|\n",
      "|         AKM|    Alexande-999|            25.0|         368799.3|         420810.2|MIRAMAR|2U4GBNA0YmnLSqvEy...| 117|       Ascholes|            43.0|         368015.0|         421322.6| 936.8459051519337|          18.0|\n",
      "|       Punch|    NameLessisME|             8.0|         434351.8|         278681.6|MIRAMAR|2U4GBNA0YmnLSqvEy...| 165|       Haten-Gu|            28.0|         434383.5|         278608.1|   80.044612560751|          20.0|\n",
      "|         P92|      Daerljgodi|            20.0|         365983.6|         439563.8|MIRAMAR|2U4GBNA0YmnLSqvEy...| 111|      BigBeefyy|            38.0|         366246.5|         439890.6| 419.4218043926718|          18.0|\n",
      "|        S686|        JoyFeng-|             3.0|         363435.6|         423069.7|MIRAMAR|2U4GBNA0YmnLSqvEy...| 406|   WalrusInHeat|            23.0|         363666.7|         423256.1|296.90431118460225|          20.0|\n",
      "|        M416|    NameLessisME|             8.0|         374980.3|         293019.5|MIRAMAR|2U4GBNA0YmnLSqvEy...| 883|     Dinostoned|            15.0|         375053.3|         293151.7|151.01602563967535|           7.0|\n",
      "|Down and Out|   UrGrandFather|            14.0|         535680.8|         368517.3|MIRAMAR|2U4GBNA0YmnLSqvEy...| 751|          Pis22|            null|         533947.6|         366812.6| 2431.045933338217|          null|\n",
      "|       Punch|   xuezhiqian717|            26.0|         725042.3|         361510.1|MIRAMAR|2U4GBNA0YmnLSqvEy...| 139|  patrickmoneyy|            47.0|              0.0|              0.0| 810170.2840707626|          21.0|\n",
      "|       Win94|   FantasticBoys|             2.0|         384599.4|         437149.5|MIRAMAR|2U4GBNA0YmnLSqvEy...| 127|     ImSoPhamcy|            42.0|         383677.7|         443822.2| 6736.056426426383|          40.0|\n",
      "|        M416|       PPPIGFEET|            26.0|         363133.9|         430829.4|MIRAMAR|2U4GBNA0YmnLSqvEy...| 229|     Northidaho|            30.0|         363109.9|         430999.2| 171.4877255082592|           4.0|\n",
      "|       M16A4|       EnGliSh22|             5.0|         582324.7|         251006.2|MIRAMAR|2U4GBNA0YmnLSqvEy...|1181|     BuckFutt22|            11.0|         584332.7|         252824.0| 2708.590194178506|           6.0|\n",
      "|        S12K|        Bookinga|            44.0|         371186.5|         423791.3|MIRAMAR|2U4GBNA0YmnLSqvEy...|  97|      BergerBoi|            47.0|         371092.2|         423650.7|169.29515645756453|           3.0|\n",
      "+------------+----------------+----------------+-----------------+-----------------+-------+--------------------+----+---------------+----------------+-----------------+-----------------+------------------+--------------+\n",
      "only showing top 20 rows\n",
      "\n"
     ]
    },
    {
     "name": "stderr",
     "output_type": "stream",
     "text": [
      "                                                                                \r"
     ]
    }
   ],
   "source": [
    "pubg_kills.show()"
   ]
  },
  {
   "cell_type": "code",
   "execution_count": 6,
   "id": "ceed0502-0ef1-4ec2-9416-9b0a04ded1ef",
   "metadata": {},
   "outputs": [],
   "source": [
    "now = datetime.datetime.now()\n",
    "write_timestamp = f'{now.year}-{now.month}-{now.day}'"
   ]
  },
  {
   "cell_type": "code",
   "execution_count": 36,
   "id": "2a304a94-00df-49fe-bb2c-505ba1ffbb0f",
   "metadata": {},
   "outputs": [
    {
     "name": "stderr",
     "output_type": "stream",
     "text": [
      "                                                                                \r"
     ]
    }
   ],
   "source": [
    "avg_dist = pubg_kills.groupby(['killed_by', 'time']).agg(f.avg('distance').alias('distance'))\n",
    "avg_dist = avg_dist.withColumn('write_timestamp', f.lit(write_timestamp))\n",
    "(avg_dist.write.format('org.apache.spark.sql.cassandra')\n",
    "               .mode('append')\n",
    "               .options(table='dist_avg', keyspace='miptstudent2024_07')\n",
    "               .save())"
   ]
  },
  {
   "cell_type": "code",
   "execution_count": 42,
   "id": "d13082bb-73ff-4859-a5b6-92b405571834",
   "metadata": {},
   "outputs": [
    {
     "name": "stderr",
     "output_type": "stream",
     "text": [
      "                                                                                \r"
     ]
    }
   ],
   "source": [
    "max_dist = pubg_kills.groupby(['killed_by', 'time']).agg(f.max('distance').alias('distance'))\n",
    "max_dist = max_dist.withColumn('write_timestamp', f.lit(write_timestamp))\n",
    "(max_dist.write.format('org.apache.spark.sql.cassandra')\n",
    "               .mode('append')\n",
    "               .options(table='dist_max', keyspace='miptstudent2024_07')\n",
    "               .save())"
   ]
  },
  {
   "cell_type": "code",
   "execution_count": 45,
   "id": "c516045c-dc42-42b2-b4c7-e98c9b3c973a",
   "metadata": {},
   "outputs": [
    {
     "name": "stderr",
     "output_type": "stream",
     "text": [
      "                                                                                \r"
     ]
    }
   ],
   "source": [
    "placement_diff = pubg_kills.groupby(['killed_by', 'time']).agg(f.avg('placement_diff').alias('placement_diff'))\n",
    "placement_diff = placement_diff.withColumn('write_timestamp', f.lit(write_timestamp))\n",
    "(placement_diff.write.format('org.apache.spark.sql.cassandra')\n",
    "               .mode('append')\n",
    "               .options(table='placement_diff_avg', keyspace='miptstudent2024_07')\n",
    "               .save())"
   ]
  },
  {
   "cell_type": "code",
   "execution_count": 29,
   "id": "1366a59e-3ed7-4bbe-a5f9-3dee0a280a65",
   "metadata": {},
   "outputs": [],
   "source": [
    "old_map_kills = spark.sql('SELECT * FROM cassandra.miptstudent2024_07.map_kills_all')\n",
    "map_kills_new = pubg_kills.groupby(['map', 'killed_by', 'time']).agg(f.count('victim_name').alias('kills_count'))\n",
    "map_kills_new = map_kills_new.fillna({'map': 'unknown_map'})"
   ]
  },
  {
   "cell_type": "code",
   "execution_count": 59,
   "id": "3166099a-68e0-4b21-9318-ab16363470d2",
   "metadata": {},
   "outputs": [
    {
     "name": "stderr",
     "output_type": "stream",
     "text": [
      "                                                                                \r"
     ]
    }
   ],
   "source": [
    "map_kills_joined = old_map_kills.withColumnRenamed('kills_count', 'kills_count_left').join(map_kills_new, on=['killed_by', 'map', 'time'])\n",
    "map_kills_joined = map_kills_joined.fillna({'kills_count': 0})\n",
    "map_kills_joined = map_kills_joined.withColumn(\n",
    "    'kills_count', map_kills_joined['kills_count_left'] + map_kills_joined['kills_count']\n",
    ").drop('kills_count_left')\n",
    "(map_kills_joined.write\n",
    "                 .format('org.apache.spark.sql.cassandra')\n",
    "                 .mode('append')\n",
    "                 .options(table='map_kills_all', keyspace='miptstudent2024_07')\n",
    "                 .save())"
   ]
  },
  {
   "cell_type": "code",
   "execution_count": 64,
   "id": "da2c2e2d-2a28-474c-a9ad-96709883a6db",
   "metadata": {},
   "outputs": [],
   "source": [
    "df = spark.sql(\"SELECT killed_by, map, SUM(kills_count) FROM cassandra.miptstudent2024_07.map_kills_all WHERE killed_by = 'Mini 14' AND map = 'ERANGEL' AND time >= 10 AND time <= 1000 GROUP BY killed_by, map;\")"
   ]
  },
  {
   "cell_type": "code",
   "execution_count": 65,
   "id": "d2021321-1f62-45d6-a19b-7a77a8abfe2f",
   "metadata": {},
   "outputs": [
    {
     "name": "stderr",
     "output_type": "stream",
     "text": [
      "[Stage 27:>                                                         (0 + 1) / 1]\r"
     ]
    },
    {
     "name": "stdout",
     "output_type": "stream",
     "text": [
      "+---------+-------+----------------+\n",
      "|killed_by|    map|sum(kills_count)|\n",
      "+---------+-------+----------------+\n",
      "|  Mini 14|ERANGEL|          733486|\n",
      "+---------+-------+----------------+\n",
      "\n"
     ]
    },
    {
     "name": "stderr",
     "output_type": "stream",
     "text": [
      "                                                                                \r"
     ]
    }
   ],
   "source": [
    "df.show()"
   ]
  },
  {
   "cell_type": "code",
   "execution_count": 13,
   "id": "a9110a5b-ac5c-42b8-ae65-4f4ac7ace4fa",
   "metadata": {},
   "outputs": [],
   "source": [
    "spark.stop()"
   ]
  },
  {
   "cell_type": "code",
   "execution_count": null,
   "id": "71620e60-891d-446b-9b7e-33c7d1d386af",
   "metadata": {},
   "outputs": [],
   "source": []
  }
 ],
 "metadata": {
  "kernelspec": {
   "display_name": "Python 3 (ipykernel)",
   "language": "python",
   "name": "python3"
  },
  "language_info": {
   "codemirror_mode": {
    "name": "ipython",
    "version": 3
   },
   "file_extension": ".py",
   "mimetype": "text/x-python",
   "name": "python",
   "nbconvert_exporter": "python",
   "pygments_lexer": "ipython3",
   "version": "3.8.10"
  }
 },
 "nbformat": 4,
 "nbformat_minor": 5
}
