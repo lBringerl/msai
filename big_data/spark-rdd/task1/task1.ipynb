{
 "cells": [
  {
   "cell_type": "code",
   "execution_count": 1,
   "id": "3f21d7e3-99b1-43a6-9702-5eadd4d5161e",
   "metadata": {},
   "outputs": [
    {
     "data": {
      "text/html": [
       "\n",
       "        <div>\n",
       "            <p><b>SparkContext</b></p>\n",
       "\n",
       "            <p><a href=\"http://master.hadoop.akhcheck.ru:4042\">Spark UI</a></p>\n",
       "\n",
       "            <dl>\n",
       "              <dt>Version</dt>\n",
       "                <dd><code>v3.2.4</code></dd>\n",
       "              <dt>Master</dt>\n",
       "                <dd><code>yarn</code></dd>\n",
       "              <dt>AppName</dt>\n",
       "                <dd><code>PySparkShell</code></dd>\n",
       "            </dl>\n",
       "        </div>\n",
       "        "
      ],
      "text/plain": [
       "<SparkContext master=yarn appName=PySparkShell>"
      ]
     },
     "execution_count": 1,
     "metadata": {},
     "output_type": "execute_result"
    }
   ],
   "source": [
    "sc"
   ]
  },
  {
   "cell_type": "code",
   "execution_count": 139,
   "id": "bb7168e0-efcc-4bbc-8afa-a5ceb7667882",
   "metadata": {},
   "outputs": [
    {
     "name": "stderr",
     "output_type": "stream",
     "text": [
      "                                                                                \r"
     ]
    }
   ],
   "source": [
    "import json\n",
    "import os\n",
    "\n",
    "\n",
    "businesses_rdd = sc.textFile('/data/yelp/business/yelp_academic_dataset_business.json').repartition(10)\n",
    "\n",
    "\n",
    "def count_worktime(business):\n",
    "    busy_dct = json.loads(business)\n",
    "    _id = busy_dct['business_id']\n",
    "    hours = busy_dct['hours']\n",
    "    if hours is None:\n",
    "        return _id, 0\n",
    "    total = 0\n",
    "    for v in hours.values():\n",
    "        start, end = v.split('-')\n",
    "        start_h, start_m = map(int, start.split(':'))\n",
    "        end_h, end_m = map(int, end.split(':'))\n",
    "        if end_m == start_m == end_h == start_h == 0:\n",
    "            continue\n",
    "        if end_h < start_h or (end_h == start_h and end_m < start_m):\n",
    "            end_h += 24\n",
    "        if end_m < start_m:\n",
    "            mins = 60 - start_m + end_m\n",
    "            sub_h = 1\n",
    "        else:\n",
    "            mins = end_m - start_m\n",
    "            sub_h = 0\n",
    "        total += (mins + (end_h - start_h - sub_h) * 60)\n",
    "    return _id, total\n",
    "\n",
    "\n",
    "final_rdd = businesses_rdd.map(count_worktime).sortBy(lambda x: (-x[1], x[0]))\n",
    "top10 = final_rdd.take(10)\n",
    "for _id, total in top10:\n",
    "    print(f'{_id}\\t{total}')\n"
   ]
  }
 ],
 "metadata": {
  "kernelspec": {
   "display_name": "Python 3 (ipykernel)",
   "language": "python",
   "name": "python3"
  },
  "language_info": {
   "codemirror_mode": {
    "name": "ipython",
    "version": 3
   },
   "file_extension": ".py",
   "mimetype": "text/x-python",
   "name": "python",
   "nbconvert_exporter": "python",
   "pygments_lexer": "ipython3",
   "version": "3.8.10"
  }
 },
 "nbformat": 4,
 "nbformat_minor": 5
}
