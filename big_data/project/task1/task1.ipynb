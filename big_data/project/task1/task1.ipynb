{
 "cells": [
  {
   "cell_type": "code",
   "execution_count": 1,
   "id": "08e24e50-344d-49a0-bf4b-67bbc4c4c7a7",
   "metadata": {},
   "outputs": [],
   "source": [
    "import pyspark.sql.functions as f\n",
    "from pyspark.sql.types import *"
   ]
  },
  {
   "cell_type": "code",
   "execution_count": 2,
   "id": "83e7f6c3-a678-486c-aecb-c760033384e6",
   "metadata": {},
   "outputs": [],
   "source": [
    "df = (spark\n",
    "      .readStream\n",
    "      .format(\"kafka\")\n",
    "      .option(\"kafka.bootstrap.servers\", \"master.hadoop.akhcheck.ru:9092\")\n",
    "      .option(\"subscribe\", \"test\")\n",
    "      .load())\n",
    "dstream = df.selectExpr(\"topic\", \"CAST(key AS STRING)\", \"CAST(value AS STRING)\")"
   ]
  },
  {
   "cell_type": "code",
   "execution_count": 4,
   "id": "52cb6924-cae9-4e6f-921b-07448de2f67a",
   "metadata": {},
   "outputs": [],
   "source": [
    "schema = StructType([\n",
    "    StructField(\"method\", StringType()),\n",
    "    StructField(\"kubernetes\", StringType())\n",
    "])\n",
    "kubernetes_schema = StructType([\n",
    "    StructField(\"labels\", StringType())\n",
    "])\n",
    "labels_schema = StructType([\n",
    "    StructField(\"app\", StringType())\n",
    "])"
   ]
  },
  {
   "cell_type": "code",
   "execution_count": 11,
   "id": "148a3577-78e7-4bfb-95cf-93d8754d3ffd",
   "metadata": {},
   "outputs": [],
   "source": [
    "dstream = dstream.withColumn('topic', f.lit('empty'))\n",
    "dstream = dstream.withColumn('json', f.from_json(f.col('value'), schema))\n",
    "dstream = dstream.withColumn('kubernetes', f.from_json(f.col('json.kubernetes'), kubernetes_schema))\n",
    "dstream = dstream.withColumn('labels', f.from_json(f.col('kubernetes.labels'), labels_schema))\n",
    "dstream = dstream.withColumn('app', f.col('labels.app').alias('app'))\n",
    "dstream = dstream.withColumn('topic', f.when(dstream.app == 'frontend', 'student07-frontend').otherwise(dstream.topic))\n",
    "dstream = dstream.withColumn('topic', f.when(dstream.app == 'backend', 'student07-backend').otherwise(dstream.topic))\n",
    "dstream = dstream.withColumn('topic', f.when(dstream.app == 'webservice', 'student07-gitlab').otherwise(dstream.topic))"
   ]
  },
  {
   "cell_type": "code",
   "execution_count": null,
   "id": "89c54bba-481e-4e1c-a7bb-022f89d47534",
   "metadata": {},
   "outputs": [
    {
     "name": "stderr",
     "output_type": "stream",
     "text": [
      "24/06/05 21:06:10 WARN ResolveWriteToStream: spark.sql.adaptive.enabled is not supported in streaming DataFrames/Datasets and will be disabled.\n",
      "                                                                                \r"
     ]
    }
   ],
   "source": [
    "ds = (dstream\n",
    "      .writeStream\n",
    "      .format(\"kafka\")\n",
    "      .option(\"kafka.bootstrap.servers\", \"master.hadoop.akhcheck.ru:9092\")\n",
    "      .option(\"checkpointLocation\", \"checkpoints-frontend\")\n",
    "      .start()\n",
    "      .awaitTermination())"
   ]
  },
  {
   "cell_type": "code",
   "execution_count": 17,
   "id": "102f8d31-1178-4a23-be5a-65e802cbf3d3",
   "metadata": {},
   "outputs": [],
   "source": [
    "spark.stop()"
   ]
  },
  {
   "cell_type": "code",
   "execution_count": null,
   "id": "36de7d4c-9dfe-4750-9adc-d62ef6d5c29e",
   "metadata": {},
   "outputs": [],
   "source": []
  }
 ],
 "metadata": {
  "kernelspec": {
   "display_name": "Python 3 (ipykernel)",
   "language": "python",
   "name": "python3"
  },
  "language_info": {
   "codemirror_mode": {
    "name": "ipython",
    "version": 3
   },
   "file_extension": ".py",
   "mimetype": "text/x-python",
   "name": "python",
   "nbconvert_exporter": "python",
   "pygments_lexer": "ipython3",
   "version": "3.8.10"
  }
 },
 "nbformat": 4,
 "nbformat_minor": 5
}
