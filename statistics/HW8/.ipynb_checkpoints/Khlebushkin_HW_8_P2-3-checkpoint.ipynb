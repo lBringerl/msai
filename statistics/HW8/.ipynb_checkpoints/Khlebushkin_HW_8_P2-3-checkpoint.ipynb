{
 "cells": [
  {
   "cell_type": "markdown",
   "id": "334bfc55-d1e2-404f-aa9b-2d144e16cc0c",
   "metadata": {},
   "source": [
    "### P2"
   ]
  },
  {
   "cell_type": "code",
   "execution_count": 72,
   "id": "18f3f898-51fb-41b5-ba35-4b9e7db46dc4",
   "metadata": {},
   "outputs": [
    {
     "name": "stdout",
     "output_type": "stream",
     "text": [
      ".. _diabetes_dataset:\n",
      "\n",
      "Diabetes dataset\n",
      "----------------\n",
      "\n",
      "Ten baseline variables, age, sex, body mass index, average blood\n",
      "pressure, and six blood serum measurements were obtained for each of n =\n",
      "442 diabetes patients, as well as the response of interest, a\n",
      "quantitative measure of disease progression one year after baseline.\n",
      "\n",
      "**Data Set Characteristics:**\n",
      "\n",
      ":Number of Instances: 442\n",
      "\n",
      ":Number of Attributes: First 10 columns are numeric predictive values\n",
      "\n",
      ":Target: Column 11 is a quantitative measure of disease progression one year after baseline\n",
      "\n",
      ":Attribute Information:\n",
      "    - age     age in years\n",
      "    - sex\n",
      "    - bmi     body mass index\n",
      "    - bp      average blood pressure\n",
      "    - s1      tc, total serum cholesterol\n",
      "    - s2      ldl, low-density lipoproteins\n",
      "    - s3      hdl, high-density lipoproteins\n",
      "    - s4      tch, total cholesterol / HDL\n",
      "    - s5      ltg, possibly log of serum triglycerides level\n",
      "    - s6      glu, blood sugar level\n",
      "\n",
      "Note: Each of these 10 feature variables have been mean centered and scaled by the standard deviation times the square root of `n_samples` (i.e. the sum of squares of each column totals 1).\n",
      "\n",
      "Source URL:\n",
      "https://www4.stat.ncsu.edu/~boos/var.select/diabetes.html\n",
      "\n",
      "For more information see:\n",
      "Bradley Efron, Trevor Hastie, Iain Johnstone and Robert Tibshirani (2004) \"Least Angle Regression,\" Annals of Statistics (with discussion), 407-499.\n",
      "(https://web.stanford.edu/~hastie/Papers/LARS/LeastAngle_2002.pdf)\n",
      "\n"
     ]
    }
   ],
   "source": [
    "from sklearn.datasets import load_diabetes\n",
    "from sklearn.model_selection import train_test_split\n",
    "data = load_diabetes(as_frame=True)\n",
    "print(data[\"DESCR\"])\n",
    "df = data[\"frame\"]\n",
    "df_train, df_test = train_test_split(df, test_size=0.2)"
   ]
  },
  {
   "cell_type": "markdown",
   "id": "59d76377-09fe-4ed3-9928-752ed0071db5",
   "metadata": {},
   "source": [
    "#### Test independence hypothesis for every feature with target (10 tests total). Re- member the normality assumption! Don’t forget to account for multiple testing! Fit a linear regression model using features for which we reject the independence hypothesis. Measure RMSE on testing dataset."
   ]
  },
  {
   "cell_type": "code",
   "execution_count": 73,
   "id": "bc8664a4-3d98-4082-8656-88f412d517f1",
   "metadata": {},
   "outputs": [],
   "source": [
    "from sklearn.linear_model import LinearRegression\n",
    "from sklearn.metrics import mean_squared_error\n",
    "from sklearn.feature_selection import f_regression\n",
    "import statsmodels.api as sm\n",
    "import numpy as np"
   ]
  },
  {
   "cell_type": "code",
   "execution_count": 74,
   "id": "05d61ed3-e002-4523-88f8-54bc58223b9b",
   "metadata": {},
   "outputs": [],
   "source": [
    "features = df_train.drop(columns=['target'])\n",
    "target = df_train['target']"
   ]
  },
  {
   "cell_type": "code",
   "execution_count": 75,
   "id": "95e47f4a-243b-4b74-a678-0552cddcffa0",
   "metadata": {},
   "outputs": [
    {
     "data": {
      "text/plain": [
       "array(['age', 'bmi', 'bp', 's1', 's2', 's3', 's4', 's5', 's6'],\n",
       "      dtype=object)"
      ]
     },
     "execution_count": 75,
     "metadata": {},
     "output_type": "execute_result"
    }
   ],
   "source": [
    "stats, p_values = f_regression(features, target)\n",
    "\n",
    "significant_features = features.columns[p_values * len(p_values) < 0.05]\n",
    "significant_features.values"
   ]
  },
  {
   "cell_type": "code",
   "execution_count": 76,
   "id": "5ae4a80f-7a80-41fc-88d1-f69cfdaeb225",
   "metadata": {},
   "outputs": [
    {
     "name": "stdout",
     "output_type": "stream",
     "text": [
      "RMSE is:  58.88387086315544\n"
     ]
    }
   ],
   "source": [
    "X_train, Y_train = df_train[significant_features], df_train['target']\n",
    "X_test, Y_test = df_test[significant_features], df_test['target']\n",
    "\n",
    "model = LinearRegression().fit(X_train, Y_train)\n",
    "\n",
    "Y_pred = model.predict(X_test)\n",
    "\n",
    "rmse = np.sqrt(mean_squared_error(Y_test, Y_pred))\n",
    "\n",
    "print('RMSE is: ', rmse)"
   ]
  },
  {
   "cell_type": "markdown",
   "id": "537231d5-a0fc-4f53-95f6-ddcca2147795",
   "metadata": {},
   "source": [
    "#### Train a regularized regression model with all features considered. Remember the normality assumption! Read the summary of your fit. Find the confidence intervals for every coefficient. Fit a new ordinary linear regression model excluding all features that have zero in the confidence interval. Measure RMSE on testing dataset."
   ]
  },
  {
   "cell_type": "code",
   "execution_count": 77,
   "id": "20e4a6f2-f071-4013-b9ed-89b526ab9a6b",
   "metadata": {},
   "outputs": [
    {
     "name": "stdout",
     "output_type": "stream",
     "text": [
      "                            OLS Regression Results                            \n",
      "==============================================================================\n",
      "Dep. Variable:                 target   R-squared:                       0.555\n",
      "Model:                            OLS   Adj. R-squared:                  0.542\n",
      "Method:                 Least Squares   F-statistic:                     42.71\n",
      "Date:                Thu, 30 May 2024   Prob (F-statistic):           2.40e-54\n",
      "Time:                        19:09:00   Log-Likelihood:                -1896.3\n",
      "No. Observations:                 353   AIC:                             3815.\n",
      "Df Residuals:                     342   BIC:                             3857.\n",
      "Df Model:                          10                                         \n",
      "Covariance Type:            nonrobust                                         \n",
      "==============================================================================\n",
      "                 coef    std err          t      P>|t|      [0.025      0.975]\n",
      "------------------------------------------------------------------------------\n",
      "const        153.8780      2.824     54.489      0.000     148.323     159.433\n",
      "age          -37.6489     65.207     -0.577      0.564    -165.906      90.608\n",
      "sex         -274.7140     66.418     -4.136      0.000    -405.354    -144.074\n",
      "bmi          508.5874     73.186      6.949      0.000     364.636     652.539\n",
      "bp           303.4759     72.303      4.197      0.000     161.261     445.691\n",
      "s1          -752.6430    480.807     -1.565      0.118   -1698.354     193.068\n",
      "s2           462.4950    389.174      1.188      0.236    -302.981    1227.971\n",
      "s3            88.6566    239.643      0.370      0.712    -382.703     560.017\n",
      "s4           200.1946    174.246      1.149      0.251    -142.535     542.924\n",
      "s5           720.1946    186.446      3.863      0.000     353.469    1086.920\n",
      "s6           129.6223     71.699      1.808      0.072     -11.405     270.650\n",
      "==============================================================================\n",
      "Omnibus:                        2.886   Durbin-Watson:                   1.927\n",
      "Prob(Omnibus):                  0.236   Jarque-Bera (JB):                2.336\n",
      "Skew:                           0.069   Prob(JB):                        0.311\n",
      "Kurtosis:                       2.626   Cond. No.                         239.\n",
      "==============================================================================\n",
      "\n",
      "Notes:\n",
      "[1] Standard Errors assume that the covariance matrix of the errors is correctly specified.\n",
      "                 0            1\n",
      "const   148.323378   159.432606\n",
      "age    -165.905641    90.607808\n",
      "sex    -405.353523  -144.074402\n",
      "bmi     364.635824   652.538981\n",
      "bp      161.260902   445.690836\n",
      "s1    -1698.353559   193.067531\n",
      "s2     -302.981335  1227.971319\n",
      "s3     -382.703476   560.016748\n",
      "s4     -142.534852   542.923973\n",
      "s5      353.469200  1086.919929\n",
      "s6      -11.405136   270.649701\n",
      "['age', 's1', 's2', 's3', 's4', 's6']\n"
     ]
    }
   ],
   "source": [
    "X_train, Y_train = sm.add_constant(df_train.drop(columns=['target'])), df_train['target']\n",
    "\n",
    "model = sm.OLS(Y_train, X_train).fit()\n",
    "print(model.summary())\n",
    "\n",
    "conf_intervals = model.conf_int()\n",
    "exclude = conf_intervals[(conf_intervals[0] <= 0) & (conf_intervals[1] >= 0)].index.tolist()\n",
    "\n",
    "print(conf_intervals)\n",
    "print(exclude)"
   ]
  },
  {
   "cell_type": "code",
   "execution_count": 78,
   "id": "24f27bc9-143f-4931-bd94-8662272cee55",
   "metadata": {},
   "outputs": [
    {
     "name": "stdout",
     "output_type": "stream",
     "text": [
      "RMSE of test set:  59.25290437223776\n"
     ]
    }
   ],
   "source": [
    "if 'const' in exclude:\n",
    "  exclude.remove('const')\n",
    "exclude.append('target')\n",
    "\n",
    "X_train, Y_train = df_train.drop(columns=exclude), df_train['target']\n",
    "X_test, Y_test = df_test.drop(columns=exclude), df_test['target']\n",
    "\n",
    "model = LinearRegression(fit_intercept=need_constant).fit(X_train, Y_train)\n",
    "\n",
    "Y_pred = model.predict(X_test)\n",
    "\n",
    "rmse = np.sqrt(mean_squared_error(Y_test, Y_pred))\n",
    "\n",
    "print('RMSE of test set: ', rmse)"
   ]
  },
  {
   "cell_type": "markdown",
   "id": "ffece857-9dc7-4952-9a72-d36bdf2c39e6",
   "metadata": {},
   "source": [
    "### P3"
   ]
  },
  {
   "cell_type": "code",
   "execution_count": 79,
   "id": "5ab0d60d-38f5-40b9-b05f-1b459c5ce917",
   "metadata": {},
   "outputs": [],
   "source": [
    "from sklearn.datasets import load_wine\n",
    "data = load_wine(as_frame=True)\n",
    "df = data[\"frame\"]\n",
    "X = df[\"color_intensity\"]\n",
    "Y = df[\"hue\"]\n",
    "Z = df[\"flavanoids\"]"
   ]
  },
  {
   "cell_type": "code",
   "execution_count": 80,
   "id": "13baba56-9f3e-4885-b6fe-f89a4b8d4df4",
   "metadata": {},
   "outputs": [],
   "source": [
    "import pandas as pd\n",
    "import scipy.stats as stats"
   ]
  },
  {
   "cell_type": "markdown",
   "id": "85290641-6985-4488-8e93-f136f25b0b33",
   "metadata": {},
   "source": [
    "#### Find ρ(X, Y ) and p-value with SciPy’s built-in test"
   ]
  },
  {
   "cell_type": "code",
   "execution_count": 81,
   "id": "3a9b8dad-6f0f-441d-a0fb-ff364748012c",
   "metadata": {},
   "outputs": [
    {
     "name": "stdout",
     "output_type": "stream",
     "text": [
      "Pearson correlation is:  -0.5218131932287576\n",
      "p-value is: 8.075008429978309e-14\n"
     ]
    }
   ],
   "source": [
    "_r, p_value = stats.pearsonr(X, Y)\n",
    "print('Pearson correlation is: ', _r)\n",
    "print('p-value is:', p_value)"
   ]
  },
  {
   "cell_type": "markdown",
   "id": "220f5170-a01b-4780-a782-dd829df9a1fe",
   "metadata": {},
   "source": [
    "#### Find ρ(X, Y ) with formula and p-value from the CDF of the t-distribution"
   ]
  },
  {
   "cell_type": "code",
   "execution_count": 82,
   "id": "1979122e-f3c9-49a8-9e12-364fea7e3ae3",
   "metadata": {},
   "outputs": [
    {
     "name": "stdout",
     "output_type": "stream",
     "text": [
      "Manually calculated Pearson correlation coefficient is: -0.5218131932287576\n",
      "Manually calculated p-value is: 8.08242361927114e-14\n"
     ]
    }
   ],
   "source": [
    "_r_manual = (np.sum((X - np.mean(X)) * (Y - np.mean(Y)))) / (np.sqrt(np.sum((X - np.mean(X)) ** 2) * np.sum((Y - np.mean(Y)) ** 2)))\n",
    "n = len(X)\n",
    "t_stat = _r_manual * np.sqrt((n - 2) / (1 - _r_manual ** 2))\n",
    "p_value_manual = 2 * (1 - stats.t.cdf(abs(t_stat), df=n - 2))\n",
    "print('Manually calculated Pearson correlation coefficient is:', _r_manual)\n",
    "print('Manually calculated p-value is:', p_value_manual)"
   ]
  },
  {
   "cell_type": "markdown",
   "id": "a50ff229-f91c-4e7d-b8df-4d15f2bfaa0e",
   "metadata": {},
   "source": [
    "#### Find ρS(X,Z) and p-value with ‘scipy.stats.spearmanr‘"
   ]
  },
  {
   "cell_type": "code",
   "execution_count": 83,
   "id": "acb247c4-fb66-4ff0-bbaa-3ac960a8b857",
   "metadata": {},
   "outputs": [
    {
     "name": "stdout",
     "output_type": "stream",
     "text": [
      "Spearman's rank correlation is:  -0.04291038821273014\n",
      "p-value is:  0.5695430180550238\n"
     ]
    }
   ],
   "source": [
    "spearman_r, spearman_p_value = stats.spearmanr(X, Z)\n",
    "print('Spearman\\'s rank correlation is: ', spearman_r)\n",
    "print('p-value is: ', spearman_p_value)"
   ]
  },
  {
   "cell_type": "markdown",
   "id": "f26e70df-91c8-482d-8982-71ece460dad0",
   "metadata": {},
   "source": [
    "#### Find τ(X,Z) and p-value with ‘scipy.stats.kendalltau‘"
   ]
  },
  {
   "cell_type": "code",
   "execution_count": 84,
   "id": "29074b70-8715-49ba-9cbf-d2672d086c87",
   "metadata": {},
   "outputs": [
    {
     "name": "stdout",
     "output_type": "stream",
     "text": [
      "Kendall's tau is:  0.028674293665247572\n",
      "p-value is:  0.5712785725826517\n"
     ]
    }
   ],
   "source": [
    "tau, p_value_tau = stats.kendalltau(X, Z)\n",
    "print('Kendall\\'s tau is: ', tau)\n",
    "print('p-value is: ', p_value_tau)"
   ]
  }
 ],
 "metadata": {
  "kernelspec": {
   "display_name": "recsys",
   "language": "python",
   "name": "recsys"
  },
  "language_info": {
   "codemirror_mode": {
    "name": "ipython",
    "version": 3
   },
   "file_extension": ".py",
   "mimetype": "text/x-python",
   "name": "python",
   "nbconvert_exporter": "python",
   "pygments_lexer": "ipython3",
   "version": "3.11.9"
  }
 },
 "nbformat": 4,
 "nbformat_minor": 5
}
