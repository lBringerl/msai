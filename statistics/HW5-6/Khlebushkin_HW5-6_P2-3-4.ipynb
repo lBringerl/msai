{
 "cells": [
  {
   "cell_type": "markdown",
   "id": "e13dc21f-d351-4915-95a5-8fbaa69ef27e",
   "metadata": {},
   "source": [
    "### P 2"
   ]
  },
  {
   "cell_type": "code",
   "execution_count": 20,
   "id": "4d1d8f64-0f08-4511-87e7-b8e8960d814d",
   "metadata": {},
   "outputs": [],
   "source": [
    "import numpy as np\n",
    "import scipy"
   ]
  },
  {
   "cell_type": "code",
   "execution_count": 9,
   "id": "2ff700bf-dcb3-4321-b3a9-ec7f98193caa",
   "metadata": {},
   "outputs": [],
   "source": [
    "intervals_number = 10"
   ]
  },
  {
   "cell_type": "code",
   "execution_count": 10,
   "id": "03d394a2-7711-4286-a13a-484ce7869a20",
   "metadata": {},
   "outputs": [],
   "source": [
    "intervals = np.arange(intervals_number)\n",
    "counts = np.array([74, 92, 83, 79, 80, 73, 77, 75, 76, 91])\n",
    "samples_number = np.sum(counts)"
   ]
  },
  {
   "cell_type": "code",
   "execution_count": 11,
   "id": "caa86a1a-4cf4-4c43-98d9-265f8aa17cd5",
   "metadata": {},
   "outputs": [
    {
     "data": {
      "text/plain": [
       "800"
      ]
     },
     "execution_count": 11,
     "metadata": {},
     "output_type": "execute_result"
    }
   ],
   "source": [
    "samples_number"
   ]
  },
  {
   "cell_type": "code",
   "execution_count": 12,
   "id": "340c3831-f2eb-4372-b37f-3466c98dc484",
   "metadata": {},
   "outputs": [],
   "source": [
    "p = 1 / intervals_number"
   ]
  },
  {
   "cell_type": "code",
   "execution_count": 14,
   "id": "3c17a413-fc1f-4c79-bac7-db738226688f",
   "metadata": {},
   "outputs": [],
   "source": [
    "stat = np.sum((counts - samples_number * p) * (counts - samples_number * p)) / (samples_number * p)"
   ]
  },
  {
   "cell_type": "code",
   "execution_count": 15,
   "id": "e280aacf-2c7b-486f-844d-89c57bb5b207",
   "metadata": {},
   "outputs": [
    {
     "data": {
      "text/plain": [
       "5.125"
      ]
     },
     "execution_count": 15,
     "metadata": {},
     "output_type": "execute_result"
    }
   ],
   "source": [
    "stat"
   ]
  },
  {
   "cell_type": "code",
   "execution_count": 18,
   "id": "41cec7c4-fd6d-4ecc-87fd-e809f4aed7af",
   "metadata": {},
   "outputs": [
    {
     "data": {
      "text/plain": [
       "13.501388888888883"
      ]
     },
     "execution_count": 18,
     "metadata": {},
     "output_type": "execute_result"
    }
   ],
   "source": [
    "stat"
   ]
  },
  {
   "cell_type": "code",
   "execution_count": 21,
   "id": "9e675ad1-f86f-437a-8a6a-3bb2493cd9fc",
   "metadata": {},
   "outputs": [
    {
     "data": {
      "text/plain": [
       "16.918977604620448"
      ]
     },
     "execution_count": 21,
     "metadata": {},
     "output_type": "execute_result"
    }
   ],
   "source": [
    "scipy.stats.chi2.isf(0.05, 9)"
   ]
  },
  {
   "cell_type": "markdown",
   "id": "b4da9ee1-8bc1-4ebc-a759-066285eea4b1",
   "metadata": {},
   "source": [
    "### P 3"
   ]
  },
  {
   "cell_type": "code",
   "execution_count": 22,
   "id": "b8885d35-9014-475d-a1a7-2f67d0d98d9b",
   "metadata": {},
   "outputs": [],
   "source": [
    "X = np.array([-1.75, -0.33, -1.26, 0.32, 1.53, 0.35, -0.96, -0.06, 0.42, -1.08])\n",
    "Y = np.array([-0.29, 0.09, 1.70, -1.09, -0.44, -0.29, 0.25, -0.54, -1.38, 0.32])"
   ]
  },
  {
   "cell_type": "code",
   "execution_count": 23,
   "id": "289abba1-3b67-4ad1-97c7-e26e8463ace9",
   "metadata": {},
   "outputs": [
    {
     "data": {
      "text/plain": [
       "(-0.28200000000000003, -0.16699999999999998)"
      ]
     },
     "execution_count": 23,
     "metadata": {},
     "output_type": "execute_result"
    }
   ],
   "source": [
    "X_mean = np.mean(X)\n",
    "Y_mean = np.mean(Y)\n",
    "\n",
    "X_mean, Y_mean"
   ]
  },
  {
   "cell_type": "code",
   "execution_count": 24,
   "id": "ac30c33e-df1a-4cef-9488-4fb50c841ba5",
   "metadata": {},
   "outputs": [
    {
     "data": {
      "text/plain": [
       "(0.9886893681367606, 0.8517961414955262)"
      ]
     },
     "execution_count": 24,
     "metadata": {},
     "output_type": "execute_result"
    }
   ],
   "source": [
    "X_std = np.std(X, ddof=1)\n",
    "Y_std = np.std(Y, ddof=1)\n",
    "\n",
    "X_std, Y_std"
   ]
  },
  {
   "cell_type": "code",
   "execution_count": 26,
   "id": "7c0ded72-88e9-4d14-9def-2d706425c182",
   "metadata": {},
   "outputs": [
    {
     "data": {
      "text/plain": [
       "0.9227847347386424"
      ]
     },
     "execution_count": 26,
     "metadata": {},
     "output_type": "execute_result"
    }
   ],
   "source": [
    "Pooled_std = np.sqrt(((X.size - 1) * X_std ** 2 + (Y.size - 1) * Y_std ** 2) / (X.size + Y.size - 2))\n",
    "\n",
    "Pooled_std"
   ]
  },
  {
   "cell_type": "code",
   "execution_count": 28,
   "id": "3e615452-bada-41b9-90c6-e02cb0d70a6f",
   "metadata": {},
   "outputs": [
    {
     "data": {
      "text/plain": [
       "-0.27866501008526884"
      ]
     },
     "execution_count": 28,
     "metadata": {},
     "output_type": "execute_result"
    }
   ],
   "source": [
    "stat = (X_mean - Y_mean) / (Pooled_std * np.sqrt(1 / X.size + 1 / Y.size))\n",
    "\n",
    "stat"
   ]
  },
  {
   "cell_type": "code",
   "execution_count": 30,
   "id": "95fe6b87-fd89-495a-ab19-62c6c8866ab8",
   "metadata": {},
   "outputs": [
    {
     "data": {
      "text/plain": [
       "2.10092204024096"
      ]
     },
     "execution_count": 30,
     "metadata": {},
     "output_type": "execute_result"
    }
   ],
   "source": [
    "scipy.stats.t.ppf(1 - 0.05 / 2, X.size + Y.size - 2)"
   ]
  },
  {
   "cell_type": "markdown",
   "id": "70d50871-6b58-42ac-a867-a6325aa9b753",
   "metadata": {},
   "source": [
    "### P 4"
   ]
  },
  {
   "cell_type": "code",
   "execution_count": 33,
   "id": "4f730baa-68c8-49e3-a158-e032a4adf7ec",
   "metadata": {},
   "outputs": [],
   "source": [
    "from collections import defaultdict"
   ]
  },
  {
   "cell_type": "code",
   "execution_count": 32,
   "id": "0ea60f01-a059-4d74-bddd-1b946663a3cb",
   "metadata": {},
   "outputs": [],
   "source": [
    "X = np.array([176, 163, 152, 155, 156, 178, 160, 164, 169, 155, 122, 144])\n",
    "Y = np.array([168, 215, 172, 200, 191, 197, 183, 174, 176, 155, 115, 163])"
   ]
  },
  {
   "cell_type": "code",
   "execution_count": 39,
   "id": "c57d066c-c2ff-48fa-a954-1495ea56fadf",
   "metadata": {},
   "outputs": [],
   "source": [
    "n = X.size"
   ]
  },
  {
   "cell_type": "code",
   "execution_count": 34,
   "id": "3d3c1c9b-efbc-42cf-965b-0ed71a767800",
   "metadata": {},
   "outputs": [],
   "source": [
    "ranks = defaultdict(list)\n",
    "for i, d in enumerate(np.sort(np.abs(X - Y))):\n",
    "    ranks[d].append(i + 1)\n",
    "\n",
    "W = 0\n",
    "for d in X - Y:\n",
    "    W += np.sign(d) * np.mean(ranks[np.abs(d)])"
   ]
  },
  {
   "cell_type": "code",
   "execution_count": 35,
   "id": "35224723-ecb5-4178-9a28-d4e8d7d52bc5",
   "metadata": {},
   "outputs": [
    {
     "data": {
      "text/plain": [
       "-64.0"
      ]
     },
     "execution_count": 35,
     "metadata": {},
     "output_type": "execute_result"
    }
   ],
   "source": [
    "W"
   ]
  },
  {
   "cell_type": "code",
   "execution_count": 42,
   "id": "a4f54656-dce1-4bc4-b296-674d3041706e",
   "metadata": {},
   "outputs": [
    {
     "data": {
      "text/plain": [
       "650.0"
      ]
     },
     "execution_count": 42,
     "metadata": {},
     "output_type": "execute_result"
    }
   ],
   "source": [
    "n * (n + 1) * (2 * n + 1) / 6"
   ]
  },
  {
   "cell_type": "code",
   "execution_count": null,
   "id": "72128e95-8aed-4874-a2f2-2c3c967eddca",
   "metadata": {},
   "outputs": [],
   "source": []
  }
 ],
 "metadata": {
  "kernelspec": {
   "display_name": "recsys",
   "language": "python",
   "name": "recsys"
  },
  "language_info": {
   "codemirror_mode": {
    "name": "ipython",
    "version": 3
   },
   "file_extension": ".py",
   "mimetype": "text/x-python",
   "name": "python",
   "nbconvert_exporter": "python",
   "pygments_lexer": "ipython3",
   "version": "3.11.9"
  }
 },
 "nbformat": 4,
 "nbformat_minor": 5
}
