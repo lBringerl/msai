{
 "cells": [
  {
   "cell_type": "code",
   "execution_count": 1,
   "id": "d4b9ec28-8c95-4884-88d1-8f1a2303319f",
   "metadata": {},
   "outputs": [
    {
     "data": {
      "text/html": [
       "\n",
       "        <div>\n",
       "            <p><b>SparkContext</b></p>\n",
       "\n",
       "            <p><a href=\"http://master.hadoop.akhcheck.ru:4044\">Spark UI</a></p>\n",
       "\n",
       "            <dl>\n",
       "              <dt>Version</dt>\n",
       "                <dd><code>v3.2.4</code></dd>\n",
       "              <dt>Master</dt>\n",
       "                <dd><code>yarn</code></dd>\n",
       "              <dt>AppName</dt>\n",
       "                <dd><code>PySparkShell</code></dd>\n",
       "            </dl>\n",
       "        </div>\n",
       "        "
      ],
      "text/plain": [
       "<SparkContext master=yarn appName=PySparkShell>"
      ]
     },
     "execution_count": 1,
     "metadata": {},
     "output_type": "execute_result"
    }
   ],
   "source": [
    "sc"
   ]
  },
  {
   "cell_type": "code",
   "execution_count": 131,
   "id": "86822492-6c2d-44b0-9e0e-e3067d196321",
   "metadata": {},
   "outputs": [],
   "source": [
    "import json\n",
    "\n",
    "from operator import add"
   ]
  },
  {
   "cell_type": "code",
   "execution_count": 3,
   "id": "b2501cd6-ffaa-42c8-961e-2642b08057a1",
   "metadata": {},
   "outputs": [],
   "source": [
    "reviews = sc.textFile('/data/yelp/review_sample').repartition(10)\n",
    "users = sc.textFile('/data/yelp/user_sample').repartition(10)"
   ]
  },
  {
   "cell_type": "code",
   "execution_count": 158,
   "id": "89505c32-3bb2-4db1-bb48-61b33dbecad9",
   "metadata": {},
   "outputs": [],
   "source": [
    "def fetch_user_id_useful(review_line):\n",
    "    dct_review = json.loads(review_line)\n",
    "    return dct_review['user_id'], dct_review['useful']\n",
    "\n",
    "\n",
    "def fetch_user_id_friends(user_line):\n",
    "    dct_user = json.loads(user_line)\n",
    "    return [(friend, dct_user['user_id']) for friend in dct_user['friends'].strip().split(', ')]\n",
    "\n",
    "\n",
    "def fetch_user_id_friends_number(user_line):\n",
    "    dct_user = json.loads(user_line)\n",
    "    friends_list = dct_user['friends'].strip().split(', ')\n",
    "    if friends_list[0] == 'None':\n",
    "        friends_number = 0\n",
    "    else:\n",
    "        friends_number = len(friends_list)\n",
    "    return dct_user['user_id'], friends_number\n",
    "\n",
    "\n",
    "def sorting_criteria(merge_line):\n",
    "    usefuls, influence = merge_line[1]\n",
    "    influence = 0 if influence is None else influence\n",
    "    return usefuls * influence"
   ]
  },
  {
   "cell_type": "code",
   "execution_count": 28,
   "id": "42a33f0a-f30c-47ee-aa51-2204d9531879",
   "metadata": {},
   "outputs": [],
   "source": [
    "reviews_rdd0 = reviews.map(lambda x: fetch_user_id_useful(x))\n",
    "reviews_rdd1 = reviews_rdd0.groupByKey().mapValues(list)\n",
    "reviews_rdd2 = reviews_rdd1.map(lambda x: (x[0], sum(sorted(x[1], reverse=True)[:5])))"
   ]
  },
  {
   "cell_type": "code",
   "execution_count": 119,
   "id": "87243ed3-bcde-4300-8dc8-124576c904cb",
   "metadata": {},
   "outputs": [],
   "source": [
    "users_rdd0 = users.flatMap(lambda x: fetch_user_id_friends(x))\n",
    "users_rdd1 = users.map(lambda x: fetch_user_id_friends_number(x))\n",
    "users_rdd2 = users_rdd1.leftOuterJoin(users_rdd0).map(lambda x: (x[1][1], x[1][0])).reduceByKey(add)"
   ]
  },
  {
   "cell_type": "code",
   "execution_count": 162,
   "id": "14fadc00-e431-44d0-9452-730d4211df82",
   "metadata": {},
   "outputs": [
    {
     "name": "stderr",
     "output_type": "stream",
     "text": [
      "                                                                                \r"
     ]
    }
   ],
   "source": [
    "merge_rdd = reviews_rdd2.leftOuterJoin(users_rdd2).sortBy(lambda x: sorting_criteria(x), ascending=False)"
   ]
  },
  {
   "cell_type": "code",
   "execution_count": 167,
   "id": "d87f1cbe-ef7a-410c-bd92-7a4f60235367",
   "metadata": {},
   "outputs": [
    {
     "name": "stdout",
     "output_type": "stream",
     "text": [
      "Hi10sGSZNxQH3NLyWSZ1oA\t327\t10448\n",
      "3QnoTcrxuafMCoTzW_AH7A\t253\t10541\n",
      "95GOfKoCDfeGkX2l8n8Lfw\t882\t2850\n",
      "sraTrYU-7q_bQ0TxQrLJvQ\t249\t9151\n",
      "uIjj7EIVBU4kGNgmKPO02A\t160\t13115\n",
      "VtiE3eXNYtH-tb0aFCF1Pw\t267\t7220\n",
      "X_DkwPTzdO_VWzUcbUXREg\t297\t5595\n",
      "6tbXpUIU6upoeqWNDo9k_A\t146\t10836\n",
      "QnIrewrXxFnssw_gG1gF-Q\t149\t9984\n",
      "InInjzaZxzQ8_suxZEAP5g\t306\t4358\n"
     ]
    }
   ],
   "source": [
    "top10 = merge_rdd.take(10)\n",
    "for influencer in top10:\n",
    "    _id, (usefuls, influence) = influencer\n",
    "    print(f'{_id}\\t{usefuls}\\t{influence}')"
   ]
  }
 ],
 "metadata": {
  "kernelspec": {
   "display_name": "Python 3 (ipykernel)",
   "language": "python",
   "name": "python3"
  },
  "language_info": {
   "codemirror_mode": {
    "name": "ipython",
    "version": 3
   },
   "file_extension": ".py",
   "mimetype": "text/x-python",
   "name": "python",
   "nbconvert_exporter": "python",
   "pygments_lexer": "ipython3",
   "version": "3.8.10"
  }
 },
 "nbformat": 4,
 "nbformat_minor": 5
}
