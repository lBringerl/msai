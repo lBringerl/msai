{
 "cells": [
  {
   "cell_type": "code",
   "execution_count": 9,
   "id": "b649d978-1d05-4b27-be71-3ca22241271c",
   "metadata": {},
   "outputs": [
    {
     "data": {
      "text/html": [
       "\n",
       "        <div>\n",
       "            <p><b>SparkContext</b></p>\n",
       "\n",
       "            <p><a href=\"http://master.hadoop.akhcheck.ru:4041\">Spark UI</a></p>\n",
       "\n",
       "            <dl>\n",
       "              <dt>Version</dt>\n",
       "                <dd><code>v3.2.4</code></dd>\n",
       "              <dt>Master</dt>\n",
       "                <dd><code>yarn</code></dd>\n",
       "              <dt>AppName</dt>\n",
       "                <dd><code>PySparkShell</code></dd>\n",
       "            </dl>\n",
       "        </div>\n",
       "        "
      ],
      "text/plain": [
       "<SparkContext master=yarn appName=PySparkShell>"
      ]
     },
     "execution_count": 9,
     "metadata": {},
     "output_type": "execute_result"
    }
   ],
   "source": [
    "sc"
   ]
  },
  {
   "cell_type": "code",
   "execution_count": 37,
   "id": "da80f88c-8a45-4535-9ff1-bcb4b1f76a8d",
   "metadata": {},
   "outputs": [
    {
     "ename": "ImportError",
     "evalue": "cannot import name 'DateType' from 'pyspark.sql' (/opt/spark/python/pyspark/sql/__init__.py)",
     "output_type": "error",
     "traceback": [
      "\u001b[0;31m---------------------------------------------------------------------------\u001b[0m",
      "\u001b[0;31mImportError\u001b[0m                               Traceback (most recent call last)",
      "Cell \u001b[0;32mIn[37], line 1\u001b[0m\n\u001b[0;32m----> 1\u001b[0m \u001b[38;5;28;01mfrom\u001b[39;00m \u001b[38;5;21;01mpyspark\u001b[39;00m\u001b[38;5;21;01m.\u001b[39;00m\u001b[38;5;21;01msql\u001b[39;00m \u001b[38;5;28;01mimport\u001b[39;00m SparkSession, DateType\n\u001b[1;32m      2\u001b[0m \u001b[38;5;28;01mfrom\u001b[39;00m \u001b[38;5;21;01mpyspark\u001b[39;00m\u001b[38;5;21;01m.\u001b[39;00m\u001b[38;5;21;01msql\u001b[39;00m \u001b[38;5;28;01mimport\u001b[39;00m functions \u001b[38;5;28;01mas\u001b[39;00m f\n",
      "\u001b[0;31mImportError\u001b[0m: cannot import name 'DateType' from 'pyspark.sql' (/opt/spark/python/pyspark/sql/__init__.py)"
     ]
    }
   ],
   "source": [
    "from pyspark.sql import SparkSession\n",
    "from pyspark.sql import functions as f"
   ]
  },
  {
   "cell_type": "code",
   "execution_count": 11,
   "id": "3ef78785-c1ae-435b-90e4-6a429322b60f",
   "metadata": {},
   "outputs": [],
   "source": [
    "spark = SparkSession.builder.appName('ikhlebushkin_spark_df_task2').master('yarn').getOrCreate()"
   ]
  },
  {
   "cell_type": "code",
   "execution_count": 12,
   "id": "1d950952-c05b-4c38-a050-16ea1129eb6d",
   "metadata": {},
   "outputs": [
    {
     "name": "stderr",
     "output_type": "stream",
     "text": [
      "                                                                                \r"
     ]
    }
   ],
   "source": [
    "business = spark.read.json('/data/yelp/business')\n",
    "checkins = spark.read.json('/data/yelp/checkin')"
   ]
  },
  {
   "cell_type": "code",
   "execution_count": 32,
   "id": "919a1cdf-119c-43d0-8882-d23ac0394de2",
   "metadata": {},
   "outputs": [],
   "source": [
    "categories = business.select(\n",
    "    'business_id',\n",
    "    f.explode(\n",
    "        f.split(business.categories, ', ')\n",
    "    ).alias('category')\n",
    ")"
   ]
  },
  {
   "cell_type": "code",
   "execution_count": 66,
   "id": "3fcd036d-0cb3-4761-b8a3-523968bf2818",
   "metadata": {},
   "outputs": [],
   "source": [
    "months = checkins.select('business_id',\n",
    "                         f.explode(f.split(checkins.date, ', ')).alias('checkin_date'))\n",
    "months = (months\n",
    "          .withColumn('mnth', f.date_format(months.checkin_date.cast('date'), 'yyyy-MM'))\n",
    "          .drop('checkin_date'))"
   ]
  },
  {
   "cell_type": "code",
   "execution_count": 90,
   "id": "3c2650f6-f331-499c-b962-cbf17f12a9ac",
   "metadata": {},
   "outputs": [],
   "source": [
    "counted = months.groupby('business_id', 'mnth').count()"
   ]
  },
  {
   "cell_type": "code",
   "execution_count": 103,
   "id": "529f9762-8d18-47c6-b542-c7f088bb1322",
   "metadata": {},
   "outputs": [],
   "source": [
    "joined_df = (categories\n",
    "             .join(counted, 'business_id', 'inner')\n",
    "             .drop('business_id')\n",
    "             .groupBy('category', 'mnth')\n",
    "             .agg(f.sum('count').alias('checkins'))\n",
    "             .orderBy('mnth', 'category')\n",
    "             .select('mnth', 'category', 'checkins'))"
   ]
  },
  {
   "cell_type": "code",
   "execution_count": 104,
   "id": "f6534bd3-b287-421e-afd1-b48249fd0cca",
   "metadata": {},
   "outputs": [
    {
     "name": "stderr",
     "output_type": "stream",
     "text": [
      "                                                                                \r"
     ]
    },
    {
     "data": {
      "text/plain": [
       "[Row(mnth='2009-12', category='American (Traditional)', checkins=1),\n",
       " Row(mnth='2009-12', category='Breakfast & Brunch', checkins=1),\n",
       " Row(mnth='2009-12', category='Diners', checkins=1),\n",
       " Row(mnth='2009-12', category='Indian', checkins=1),\n",
       " Row(mnth='2009-12', category='Restaurants', checkins=2),\n",
       " Row(mnth='2010-01', category='Accessories', checkins=6),\n",
       " Row(mnth='2010-01', category='Active Life', checkins=44),\n",
       " Row(mnth='2010-01', category='Adult Education', checkins=2),\n",
       " Row(mnth='2010-01', category='Adult Entertainment', checkins=2),\n",
       " Row(mnth='2010-01', category='Airlines', checkins=4),\n",
       " Row(mnth='2010-01', category='Airports', checkins=27),\n",
       " Row(mnth='2010-01', category='Allergists', checkins=1),\n",
       " Row(mnth='2010-01', category='Amateur Sports Teams', checkins=3),\n",
       " Row(mnth='2010-01', category='American (New)', checkins=245),\n",
       " Row(mnth='2010-01', category='American (Traditional)', checkins=232),\n",
       " Row(mnth='2010-01', category='Amusement Parks', checkins=7),\n",
       " Row(mnth='2010-01', category='Apartments', checkins=2),\n",
       " Row(mnth='2010-01', category='Appliances', checkins=13),\n",
       " Row(mnth='2010-01', category='Appliances & Repair', checkins=3),\n",
       " Row(mnth='2010-01', category='Arcades', checkins=6),\n",
       " Row(mnth='2010-01', category='Architects', checkins=1),\n",
       " Row(mnth='2010-01', category='Argentine', checkins=1),\n",
       " Row(mnth='2010-01', category='Art Classes', checkins=2),\n",
       " Row(mnth='2010-01', category='Art Galleries', checkins=14),\n",
       " Row(mnth='2010-01', category='Art Museums', checkins=3),\n",
       " Row(mnth='2010-01', category='Art Schools', checkins=7),\n",
       " Row(mnth='2010-01', category='Art Supplies', checkins=4),\n",
       " Row(mnth='2010-01', category='Arts & Crafts', checkins=8),\n",
       " Row(mnth='2010-01', category='Arts & Entertainment', checkins=126),\n",
       " Row(mnth='2010-01', category='Asian Fusion', checkins=32),\n",
       " Row(mnth='2010-01', category='Auto Detailing', checkins=1),\n",
       " Row(mnth='2010-01', category='Auto Parts & Supplies', checkins=5),\n",
       " Row(mnth='2010-01', category='Auto Repair', checkins=6),\n",
       " Row(mnth='2010-01', category='Automotive', checkins=23),\n",
       " Row(mnth='2010-01', category='Bagels', checkins=25),\n",
       " Row(mnth='2010-01', category='Bakeries', checkins=59),\n",
       " Row(mnth='2010-01', category='Banks & Credit Unions', checkins=2),\n",
       " Row(mnth='2010-01', category='Barbeque', checkins=35),\n",
       " Row(mnth='2010-01', category='Barbers', checkins=6),\n",
       " Row(mnth='2010-01', category='Bars', checkins=418),\n",
       " Row(mnth='2010-01', category='Bartenders', checkins=2),\n",
       " Row(mnth='2010-01', category='Basque', checkins=4),\n",
       " Row(mnth='2010-01', category='Beaches', checkins=1),\n",
       " Row(mnth='2010-01', category='Beauty & Spas', checkins=27),\n",
       " Row(mnth='2010-01', category='Bed & Breakfast', checkins=2),\n",
       " Row(mnth='2010-01', category='Beer', checkins=93),\n",
       " Row(mnth='2010-01', category='Beer Bar', checkins=9),\n",
       " Row(mnth='2010-01', category='Beer Gardens', checkins=2),\n",
       " Row(mnth='2010-01', category='Beer Tours', checkins=1),\n",
       " Row(mnth='2010-01', category='Belgian', checkins=8)]"
      ]
     },
     "execution_count": 104,
     "metadata": {},
     "output_type": "execute_result"
    }
   ],
   "source": [
    "joined_df.head(50)"
   ]
  },
  {
   "cell_type": "code",
   "execution_count": null,
   "id": "68d5d146-14e0-484a-b246-fbaab1ed58af",
   "metadata": {},
   "outputs": [],
   "source": [
    "negative_tops.write.mode('overwrite').csv('spark_df_task1', sep='\\t')"
   ]
  },
  {
   "cell_type": "code",
   "execution_count": null,
   "id": "fd043980-9805-4b6a-9c17-f6a64b00f36f",
   "metadata": {},
   "outputs": [],
   "source": [
    "spark.stop()"
   ]
  }
 ],
 "metadata": {
  "kernelspec": {
   "display_name": "Python 3 (ipykernel)",
   "language": "python",
   "name": "python3"
  },
  "language_info": {
   "codemirror_mode": {
    "name": "ipython",
    "version": 3
   },
   "file_extension": ".py",
   "mimetype": "text/x-python",
   "name": "python",
   "nbconvert_exporter": "python",
   "pygments_lexer": "ipython3",
   "version": "3.8.10"
  }
 },
 "nbformat": 4,
 "nbformat_minor": 5
}
